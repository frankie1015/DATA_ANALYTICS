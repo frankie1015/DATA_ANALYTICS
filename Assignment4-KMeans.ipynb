{
 "cells": [
  {
   "cell_type": "code",
   "execution_count": 5,
   "metadata": {},
   "outputs": [
    {
     "data": {
      "text/html": [
       "<div>\n",
       "<style scoped>\n",
       "    .dataframe tbody tr th:only-of-type {\n",
       "        vertical-align: middle;\n",
       "    }\n",
       "\n",
       "    .dataframe tbody tr th {\n",
       "        vertical-align: top;\n",
       "    }\n",
       "\n",
       "    .dataframe thead th {\n",
       "        text-align: right;\n",
       "    }\n",
       "</style>\n",
       "<table border=\"1\" class=\"dataframe\">\n",
       "  <thead>\n",
       "    <tr style=\"text-align: right;\">\n",
       "      <th></th>\n",
       "      <th>country</th>\n",
       "      <th>area</th>\n",
       "      <th>birth_rate</th>\n",
       "      <th>death_rate</th>\n",
       "      <th>infant_mortality_rate</th>\n",
       "      <th>internet_users</th>\n",
       "      <th>life_exp_at_birth</th>\n",
       "      <th>maternal_mortality_rate</th>\n",
       "      <th>net_migration_rate</th>\n",
       "      <th>population</th>\n",
       "      <th>population_growth_rate</th>\n",
       "    </tr>\n",
       "  </thead>\n",
       "  <tbody>\n",
       "    <tr>\n",
       "      <th>0</th>\n",
       "      <td>Russia</td>\n",
       "      <td>17098242.0</td>\n",
       "      <td>11.87</td>\n",
       "      <td>13.83</td>\n",
       "      <td>7.08</td>\n",
       "      <td>40853000.0</td>\n",
       "      <td>70.16</td>\n",
       "      <td>34.0</td>\n",
       "      <td>1.69</td>\n",
       "      <td>1.424703e+08</td>\n",
       "      <td>-0.03</td>\n",
       "    </tr>\n",
       "    <tr>\n",
       "      <th>1</th>\n",
       "      <td>Canada</td>\n",
       "      <td>9984670.0</td>\n",
       "      <td>10.29</td>\n",
       "      <td>8.31</td>\n",
       "      <td>4.71</td>\n",
       "      <td>26960000.0</td>\n",
       "      <td>81.67</td>\n",
       "      <td>12.0</td>\n",
       "      <td>5.66</td>\n",
       "      <td>3.483484e+07</td>\n",
       "      <td>0.76</td>\n",
       "    </tr>\n",
       "    <tr>\n",
       "      <th>2</th>\n",
       "      <td>United States</td>\n",
       "      <td>9826675.0</td>\n",
       "      <td>13.42</td>\n",
       "      <td>8.15</td>\n",
       "      <td>6.17</td>\n",
       "      <td>245000000.0</td>\n",
       "      <td>79.56</td>\n",
       "      <td>21.0</td>\n",
       "      <td>2.45</td>\n",
       "      <td>3.188921e+08</td>\n",
       "      <td>0.77</td>\n",
       "    </tr>\n",
       "    <tr>\n",
       "      <th>3</th>\n",
       "      <td>China</td>\n",
       "      <td>9596960.0</td>\n",
       "      <td>12.17</td>\n",
       "      <td>7.44</td>\n",
       "      <td>14.79</td>\n",
       "      <td>389000000.0</td>\n",
       "      <td>75.15</td>\n",
       "      <td>37.0</td>\n",
       "      <td>-0.32</td>\n",
       "      <td>1.355693e+09</td>\n",
       "      <td>0.44</td>\n",
       "    </tr>\n",
       "    <tr>\n",
       "      <th>4</th>\n",
       "      <td>Brazil</td>\n",
       "      <td>8514877.0</td>\n",
       "      <td>14.72</td>\n",
       "      <td>6.54</td>\n",
       "      <td>19.21</td>\n",
       "      <td>75982000.0</td>\n",
       "      <td>73.28</td>\n",
       "      <td>56.0</td>\n",
       "      <td>-0.15</td>\n",
       "      <td>2.026568e+08</td>\n",
       "      <td>0.80</td>\n",
       "    </tr>\n",
       "    <tr>\n",
       "      <th>...</th>\n",
       "      <td>...</td>\n",
       "      <td>...</td>\n",
       "      <td>...</td>\n",
       "      <td>...</td>\n",
       "      <td>...</td>\n",
       "      <td>...</td>\n",
       "      <td>...</td>\n",
       "      <td>...</td>\n",
       "      <td>...</td>\n",
       "      <td>...</td>\n",
       "      <td>...</td>\n",
       "    </tr>\n",
       "    <tr>\n",
       "      <th>254</th>\n",
       "      <td>Bouvet Island</td>\n",
       "      <td>49.0</td>\n",
       "      <td>NaN</td>\n",
       "      <td>NaN</td>\n",
       "      <td>NaN</td>\n",
       "      <td>NaN</td>\n",
       "      <td>NaN</td>\n",
       "      <td>NaN</td>\n",
       "      <td>NaN</td>\n",
       "      <td>NaN</td>\n",
       "      <td>NaN</td>\n",
       "    </tr>\n",
       "    <tr>\n",
       "      <th>255</th>\n",
       "      <td>Palmyra Atoll</td>\n",
       "      <td>12.0</td>\n",
       "      <td>NaN</td>\n",
       "      <td>NaN</td>\n",
       "      <td>NaN</td>\n",
       "      <td>NaN</td>\n",
       "      <td>NaN</td>\n",
       "      <td>NaN</td>\n",
       "      <td>NaN</td>\n",
       "      <td>NaN</td>\n",
       "      <td>NaN</td>\n",
       "    </tr>\n",
       "    <tr>\n",
       "      <th>256</th>\n",
       "      <td>Akrotiri</td>\n",
       "      <td>123.0</td>\n",
       "      <td>NaN</td>\n",
       "      <td>NaN</td>\n",
       "      <td>NaN</td>\n",
       "      <td>NaN</td>\n",
       "      <td>NaN</td>\n",
       "      <td>NaN</td>\n",
       "      <td>NaN</td>\n",
       "      <td>NaN</td>\n",
       "      <td>NaN</td>\n",
       "    </tr>\n",
       "    <tr>\n",
       "      <th>257</th>\n",
       "      <td>European Union</td>\n",
       "      <td>NaN</td>\n",
       "      <td>NaN</td>\n",
       "      <td>NaN</td>\n",
       "      <td>4.33</td>\n",
       "      <td>NaN</td>\n",
       "      <td>80.02</td>\n",
       "      <td>NaN</td>\n",
       "      <td>NaN</td>\n",
       "      <td>5.114348e+08</td>\n",
       "      <td>NaN</td>\n",
       "    </tr>\n",
       "    <tr>\n",
       "      <th>258</th>\n",
       "      <td>Saint Barthelemy</td>\n",
       "      <td>NaN</td>\n",
       "      <td>NaN</td>\n",
       "      <td>NaN</td>\n",
       "      <td>NaN</td>\n",
       "      <td>NaN</td>\n",
       "      <td>NaN</td>\n",
       "      <td>NaN</td>\n",
       "      <td>NaN</td>\n",
       "      <td>7.267000e+03</td>\n",
       "      <td>NaN</td>\n",
       "    </tr>\n",
       "  </tbody>\n",
       "</table>\n",
       "<p>259 rows × 11 columns</p>\n",
       "</div>"
      ],
      "text/plain": [
       "              country        area  birth_rate  death_rate  \\\n",
       "0              Russia  17098242.0       11.87       13.83   \n",
       "1              Canada   9984670.0       10.29        8.31   \n",
       "2       United States   9826675.0       13.42        8.15   \n",
       "3               China   9596960.0       12.17        7.44   \n",
       "4              Brazil   8514877.0       14.72        6.54   \n",
       "..                ...         ...         ...         ...   \n",
       "254     Bouvet Island        49.0         NaN         NaN   \n",
       "255     Palmyra Atoll        12.0         NaN         NaN   \n",
       "256          Akrotiri       123.0         NaN         NaN   \n",
       "257    European Union         NaN         NaN         NaN   \n",
       "258  Saint Barthelemy         NaN         NaN         NaN   \n",
       "\n",
       "     infant_mortality_rate  internet_users  life_exp_at_birth  \\\n",
       "0                     7.08      40853000.0              70.16   \n",
       "1                     4.71      26960000.0              81.67   \n",
       "2                     6.17     245000000.0              79.56   \n",
       "3                    14.79     389000000.0              75.15   \n",
       "4                    19.21      75982000.0              73.28   \n",
       "..                     ...             ...                ...   \n",
       "254                    NaN             NaN                NaN   \n",
       "255                    NaN             NaN                NaN   \n",
       "256                    NaN             NaN                NaN   \n",
       "257                   4.33             NaN              80.02   \n",
       "258                    NaN             NaN                NaN   \n",
       "\n",
       "     maternal_mortality_rate  net_migration_rate    population  \\\n",
       "0                       34.0                1.69  1.424703e+08   \n",
       "1                       12.0                5.66  3.483484e+07   \n",
       "2                       21.0                2.45  3.188921e+08   \n",
       "3                       37.0               -0.32  1.355693e+09   \n",
       "4                       56.0               -0.15  2.026568e+08   \n",
       "..                       ...                 ...           ...   \n",
       "254                      NaN                 NaN           NaN   \n",
       "255                      NaN                 NaN           NaN   \n",
       "256                      NaN                 NaN           NaN   \n",
       "257                      NaN                 NaN  5.114348e+08   \n",
       "258                      NaN                 NaN  7.267000e+03   \n",
       "\n",
       "     population_growth_rate  \n",
       "0                     -0.03  \n",
       "1                      0.76  \n",
       "2                      0.77  \n",
       "3                      0.44  \n",
       "4                      0.80  \n",
       "..                      ...  \n",
       "254                     NaN  \n",
       "255                     NaN  \n",
       "256                     NaN  \n",
       "257                     NaN  \n",
       "258                     NaN  \n",
       "\n",
       "[259 rows x 11 columns]"
      ]
     },
     "execution_count": 5,
     "metadata": {},
     "output_type": "execute_result"
    }
   ],
   "source": [
    "import pandas as pd\n",
    "from sklearn.cluster import KMeans\n",
    "from sklearn.preprocessing import StandardScaler\n",
    "\n",
    "# Load the dataset\n",
    "dataset = pd.read_csv(\"C:/Users/FREDDIE/Downloads/cia_factbook.csv\")\n",
    "dataset"
   ]
  },
  {
   "cell_type": "markdown",
   "metadata": {},
   "source": [
    "Perform Exploratory Data Analysis"
   ]
  },
  {
   "cell_type": "code",
   "execution_count": 6,
   "metadata": {},
   "outputs": [
    {
     "name": "stdout",
     "output_type": "stream",
     "text": [
      "<class 'pandas.core.frame.DataFrame'>\n",
      "RangeIndex: 259 entries, 0 to 258\n",
      "Data columns (total 11 columns):\n",
      " #   Column                   Non-Null Count  Dtype  \n",
      "---  ------                   --------------  -----  \n",
      " 0   country                  259 non-null    object \n",
      " 1   area                     257 non-null    float64\n",
      " 2   birth_rate               224 non-null    float64\n",
      " 3   death_rate               225 non-null    float64\n",
      " 4   infant_mortality_rate    224 non-null    float64\n",
      " 5   internet_users           213 non-null    float64\n",
      " 6   life_exp_at_birth        224 non-null    float64\n",
      " 7   maternal_mortality_rate  184 non-null    float64\n",
      " 8   net_migration_rate       222 non-null    float64\n",
      " 9   population               238 non-null    float64\n",
      " 10  population_growth_rate   233 non-null    float64\n",
      "dtypes: float64(10), object(1)\n",
      "memory usage: 22.4+ KB\n"
     ]
    }
   ],
   "source": [
    "dataset.info()"
   ]
  },
  {
   "cell_type": "code",
   "execution_count": 7,
   "metadata": {},
   "outputs": [
    {
     "data": {
      "text/plain": [
       "country                     0\n",
       "area                        2\n",
       "birth_rate                 35\n",
       "death_rate                 34\n",
       "infant_mortality_rate      35\n",
       "internet_users             46\n",
       "life_exp_at_birth          35\n",
       "maternal_mortality_rate    75\n",
       "net_migration_rate         37\n",
       "population                 21\n",
       "population_growth_rate     26\n",
       "dtype: int64"
      ]
     },
     "execution_count": 7,
     "metadata": {},
     "output_type": "execute_result"
    }
   ],
   "source": [
    "dataset.isna().sum()"
   ]
  },
  {
   "cell_type": "code",
   "execution_count": 11,
   "metadata": {},
   "outputs": [
    {
     "data": {
      "application/vnd.plotly.v1+json": {
       "config": {
        "plotlyServerURL": "https://plot.ly"
       },
       "data": [
        {
         "alignmentgroup": "True",
         "bingroup": "x",
         "hovertemplate": "birth_rate=%{x}<br>count=%{y}<extra></extra>",
         "legendgroup": "",
         "marker": {
          "color": "#636efa",
          "pattern": {
           "shape": ""
          }
         },
         "name": "",
         "offsetgroup": "",
         "orientation": "v",
         "showlegend": false,
         "type": "histogram",
         "x": [
          11.87,
          10.29,
          13.42,
          12.17,
          14.72,
          12.19,
          19.89,
          16.88,
          19.61,
          23.99,
          35.62,
          14.53,
          18.78,
          19.02,
          17.04,
          30.01,
          18.4,
          18.23,
          20.88,
          18.57,
          37.29,
          46.12,
          38.97,
          45.53,
          18.94,
          16.73,
          37.66,
          23.28,
          31.83,
          23.35,
          36.82,
          38.03,
          19.42,
          20.28,
          38.83,
          23.19,
          16.86,
          13.97,
          42.46,
          18.65,
          38.84,
          37.68,
          12.49,
          40.87,
          35.45,
          9.41,
          33.12,
          21.34,
          28.27,
          31.02,
          11.26,
          9.88,
          19.46,
          36.58,
          24.89,
          11.92,
          17.02,
          18.47,
          26.85,
          16.66,
          32.47,
          8.07,
          8.42,
          36.59,
          10.35,
          16.26,
          20.06,
          12.09,
          29.25,
          9.77,
          24.47,
          8.84,
          24.24,
          18.87,
          42.42,
          13.4,
          34.64,
          30.71,
          36.02,
          12.22,
          44.17,
          31.4,
          9.27,
          24.76,
          15.9,
          10.86,
          23.33,
          35.09,
          22.76,
          24.4,
          13.18,
          16.73,
          16.9,
          21.07,
          21.61,
          24.99,
          8.8,
          18.41,
          14.51,
          41.8,
          30.69,
          36.51,
          23.66,
          35.07,
          8.92,
          9.9,
          25.46,
          13.09,
          8.26,
          9.26,
          9.42,
          25.23,
          16.96,
          8.76,
          15.54,
          9.79,
          9.13,
          18.61,
          37.4,
          15.18,
          12.93,
          16.24,
          9.36,
          9.79,
          null,
          34.52,
          9.49,
          8.89,
          16.08,
          10.01,
          18.97,
          10.29,
          10.22,
          10.83,
          10.48,
          18.12,
          33.83,
          8.55,
          12.21,
          9.99,
          25.92,
          13.92,
          26.33,
          12.73,
          33.83,
          42.33,
          22.83,
          34.61,
          11.64,
          24.08,
          25.14,
          16.79,
          18.44,
          8.54,
          15.57,
          19.86,
          20.26,
          25.18,
          34.48,
          15.65,
          10.59,
          10.9,
          25.69,
          null,
          9.95,
          31.75,
          18.41,
          null,
          14.8,
          11.44,
          23.41,
          17.49,
          13.8,
          15.47,
          20.72,
          21.29,
          11.75,
          29.05,
          13.46,
          10.49,
          13.57,
          9.38,
          35.12,
          16.61,
          21.85,
          13.92,
          15.53,
          23.55,
          20.97,
          8.1,
          13.94,
          11.17,
          17.01,
          8.48,
          18.94,
          10.95,
          14.54,
          null,
          15.94,
          11.97,
          13.85,
          32.2,
          16.3,
          10.24,
          10.03,
          15.59,
          12.13,
          13.64,
          null,
          7.7,
          14.7,
          22.87,
          26.36,
          12.65,
          10.53,
          10.83,
          13.56,
          null,
          11.65,
          11.31,
          12.68,
          9.89,
          8.7,
          null,
          11.35,
          null,
          null,
          13,
          8.98,
          23.74,
          25.61,
          null,
          null,
          14.15,
          6.72,
          null,
          null,
          null,
          null,
          null,
          null,
          null,
          null,
          null,
          null,
          null,
          null,
          null,
          null,
          null,
          null,
          null,
          null,
          null,
          null,
          null,
          null,
          null,
          null
         ],
         "xaxis": "x",
         "yaxis": "y"
        }
       ],
       "layout": {
        "barmode": "relative",
        "height": 500,
        "legend": {
         "tracegroupgap": 0
        },
        "margin": {
         "t": 60
        },
        "template": {
         "data": {
          "bar": [
           {
            "error_x": {
             "color": "#2a3f5f"
            },
            "error_y": {
             "color": "#2a3f5f"
            },
            "marker": {
             "line": {
              "color": "#E5ECF6",
              "width": 0.5
             },
             "pattern": {
              "fillmode": "overlay",
              "size": 10,
              "solidity": 0.2
             }
            },
            "type": "bar"
           }
          ],
          "barpolar": [
           {
            "marker": {
             "line": {
              "color": "#E5ECF6",
              "width": 0.5
             },
             "pattern": {
              "fillmode": "overlay",
              "size": 10,
              "solidity": 0.2
             }
            },
            "type": "barpolar"
           }
          ],
          "carpet": [
           {
            "aaxis": {
             "endlinecolor": "#2a3f5f",
             "gridcolor": "white",
             "linecolor": "white",
             "minorgridcolor": "white",
             "startlinecolor": "#2a3f5f"
            },
            "baxis": {
             "endlinecolor": "#2a3f5f",
             "gridcolor": "white",
             "linecolor": "white",
             "minorgridcolor": "white",
             "startlinecolor": "#2a3f5f"
            },
            "type": "carpet"
           }
          ],
          "choropleth": [
           {
            "colorbar": {
             "outlinewidth": 0,
             "ticks": ""
            },
            "type": "choropleth"
           }
          ],
          "contour": [
           {
            "colorbar": {
             "outlinewidth": 0,
             "ticks": ""
            },
            "colorscale": [
             [
              0,
              "#0d0887"
             ],
             [
              0.1111111111111111,
              "#46039f"
             ],
             [
              0.2222222222222222,
              "#7201a8"
             ],
             [
              0.3333333333333333,
              "#9c179e"
             ],
             [
              0.4444444444444444,
              "#bd3786"
             ],
             [
              0.5555555555555556,
              "#d8576b"
             ],
             [
              0.6666666666666666,
              "#ed7953"
             ],
             [
              0.7777777777777778,
              "#fb9f3a"
             ],
             [
              0.8888888888888888,
              "#fdca26"
             ],
             [
              1,
              "#f0f921"
             ]
            ],
            "type": "contour"
           }
          ],
          "contourcarpet": [
           {
            "colorbar": {
             "outlinewidth": 0,
             "ticks": ""
            },
            "type": "contourcarpet"
           }
          ],
          "heatmap": [
           {
            "colorbar": {
             "outlinewidth": 0,
             "ticks": ""
            },
            "colorscale": [
             [
              0,
              "#0d0887"
             ],
             [
              0.1111111111111111,
              "#46039f"
             ],
             [
              0.2222222222222222,
              "#7201a8"
             ],
             [
              0.3333333333333333,
              "#9c179e"
             ],
             [
              0.4444444444444444,
              "#bd3786"
             ],
             [
              0.5555555555555556,
              "#d8576b"
             ],
             [
              0.6666666666666666,
              "#ed7953"
             ],
             [
              0.7777777777777778,
              "#fb9f3a"
             ],
             [
              0.8888888888888888,
              "#fdca26"
             ],
             [
              1,
              "#f0f921"
             ]
            ],
            "type": "heatmap"
           }
          ],
          "heatmapgl": [
           {
            "colorbar": {
             "outlinewidth": 0,
             "ticks": ""
            },
            "colorscale": [
             [
              0,
              "#0d0887"
             ],
             [
              0.1111111111111111,
              "#46039f"
             ],
             [
              0.2222222222222222,
              "#7201a8"
             ],
             [
              0.3333333333333333,
              "#9c179e"
             ],
             [
              0.4444444444444444,
              "#bd3786"
             ],
             [
              0.5555555555555556,
              "#d8576b"
             ],
             [
              0.6666666666666666,
              "#ed7953"
             ],
             [
              0.7777777777777778,
              "#fb9f3a"
             ],
             [
              0.8888888888888888,
              "#fdca26"
             ],
             [
              1,
              "#f0f921"
             ]
            ],
            "type": "heatmapgl"
           }
          ],
          "histogram": [
           {
            "marker": {
             "pattern": {
              "fillmode": "overlay",
              "size": 10,
              "solidity": 0.2
             }
            },
            "type": "histogram"
           }
          ],
          "histogram2d": [
           {
            "colorbar": {
             "outlinewidth": 0,
             "ticks": ""
            },
            "colorscale": [
             [
              0,
              "#0d0887"
             ],
             [
              0.1111111111111111,
              "#46039f"
             ],
             [
              0.2222222222222222,
              "#7201a8"
             ],
             [
              0.3333333333333333,
              "#9c179e"
             ],
             [
              0.4444444444444444,
              "#bd3786"
             ],
             [
              0.5555555555555556,
              "#d8576b"
             ],
             [
              0.6666666666666666,
              "#ed7953"
             ],
             [
              0.7777777777777778,
              "#fb9f3a"
             ],
             [
              0.8888888888888888,
              "#fdca26"
             ],
             [
              1,
              "#f0f921"
             ]
            ],
            "type": "histogram2d"
           }
          ],
          "histogram2dcontour": [
           {
            "colorbar": {
             "outlinewidth": 0,
             "ticks": ""
            },
            "colorscale": [
             [
              0,
              "#0d0887"
             ],
             [
              0.1111111111111111,
              "#46039f"
             ],
             [
              0.2222222222222222,
              "#7201a8"
             ],
             [
              0.3333333333333333,
              "#9c179e"
             ],
             [
              0.4444444444444444,
              "#bd3786"
             ],
             [
              0.5555555555555556,
              "#d8576b"
             ],
             [
              0.6666666666666666,
              "#ed7953"
             ],
             [
              0.7777777777777778,
              "#fb9f3a"
             ],
             [
              0.8888888888888888,
              "#fdca26"
             ],
             [
              1,
              "#f0f921"
             ]
            ],
            "type": "histogram2dcontour"
           }
          ],
          "mesh3d": [
           {
            "colorbar": {
             "outlinewidth": 0,
             "ticks": ""
            },
            "type": "mesh3d"
           }
          ],
          "parcoords": [
           {
            "line": {
             "colorbar": {
              "outlinewidth": 0,
              "ticks": ""
             }
            },
            "type": "parcoords"
           }
          ],
          "pie": [
           {
            "automargin": true,
            "type": "pie"
           }
          ],
          "scatter": [
           {
            "fillpattern": {
             "fillmode": "overlay",
             "size": 10,
             "solidity": 0.2
            },
            "type": "scatter"
           }
          ],
          "scatter3d": [
           {
            "line": {
             "colorbar": {
              "outlinewidth": 0,
              "ticks": ""
             }
            },
            "marker": {
             "colorbar": {
              "outlinewidth": 0,
              "ticks": ""
             }
            },
            "type": "scatter3d"
           }
          ],
          "scattercarpet": [
           {
            "marker": {
             "colorbar": {
              "outlinewidth": 0,
              "ticks": ""
             }
            },
            "type": "scattercarpet"
           }
          ],
          "scattergeo": [
           {
            "marker": {
             "colorbar": {
              "outlinewidth": 0,
              "ticks": ""
             }
            },
            "type": "scattergeo"
           }
          ],
          "scattergl": [
           {
            "marker": {
             "colorbar": {
              "outlinewidth": 0,
              "ticks": ""
             }
            },
            "type": "scattergl"
           }
          ],
          "scattermapbox": [
           {
            "marker": {
             "colorbar": {
              "outlinewidth": 0,
              "ticks": ""
             }
            },
            "type": "scattermapbox"
           }
          ],
          "scatterpolar": [
           {
            "marker": {
             "colorbar": {
              "outlinewidth": 0,
              "ticks": ""
             }
            },
            "type": "scatterpolar"
           }
          ],
          "scatterpolargl": [
           {
            "marker": {
             "colorbar": {
              "outlinewidth": 0,
              "ticks": ""
             }
            },
            "type": "scatterpolargl"
           }
          ],
          "scatterternary": [
           {
            "marker": {
             "colorbar": {
              "outlinewidth": 0,
              "ticks": ""
             }
            },
            "type": "scatterternary"
           }
          ],
          "surface": [
           {
            "colorbar": {
             "outlinewidth": 0,
             "ticks": ""
            },
            "colorscale": [
             [
              0,
              "#0d0887"
             ],
             [
              0.1111111111111111,
              "#46039f"
             ],
             [
              0.2222222222222222,
              "#7201a8"
             ],
             [
              0.3333333333333333,
              "#9c179e"
             ],
             [
              0.4444444444444444,
              "#bd3786"
             ],
             [
              0.5555555555555556,
              "#d8576b"
             ],
             [
              0.6666666666666666,
              "#ed7953"
             ],
             [
              0.7777777777777778,
              "#fb9f3a"
             ],
             [
              0.8888888888888888,
              "#fdca26"
             ],
             [
              1,
              "#f0f921"
             ]
            ],
            "type": "surface"
           }
          ],
          "table": [
           {
            "cells": {
             "fill": {
              "color": "#EBF0F8"
             },
             "line": {
              "color": "white"
             }
            },
            "header": {
             "fill": {
              "color": "#C8D4E3"
             },
             "line": {
              "color": "white"
             }
            },
            "type": "table"
           }
          ]
         },
         "layout": {
          "annotationdefaults": {
           "arrowcolor": "#2a3f5f",
           "arrowhead": 0,
           "arrowwidth": 1
          },
          "autotypenumbers": "strict",
          "coloraxis": {
           "colorbar": {
            "outlinewidth": 0,
            "ticks": ""
           }
          },
          "colorscale": {
           "diverging": [
            [
             0,
             "#8e0152"
            ],
            [
             0.1,
             "#c51b7d"
            ],
            [
             0.2,
             "#de77ae"
            ],
            [
             0.3,
             "#f1b6da"
            ],
            [
             0.4,
             "#fde0ef"
            ],
            [
             0.5,
             "#f7f7f7"
            ],
            [
             0.6,
             "#e6f5d0"
            ],
            [
             0.7,
             "#b8e186"
            ],
            [
             0.8,
             "#7fbc41"
            ],
            [
             0.9,
             "#4d9221"
            ],
            [
             1,
             "#276419"
            ]
           ],
           "sequential": [
            [
             0,
             "#0d0887"
            ],
            [
             0.1111111111111111,
             "#46039f"
            ],
            [
             0.2222222222222222,
             "#7201a8"
            ],
            [
             0.3333333333333333,
             "#9c179e"
            ],
            [
             0.4444444444444444,
             "#bd3786"
            ],
            [
             0.5555555555555556,
             "#d8576b"
            ],
            [
             0.6666666666666666,
             "#ed7953"
            ],
            [
             0.7777777777777778,
             "#fb9f3a"
            ],
            [
             0.8888888888888888,
             "#fdca26"
            ],
            [
             1,
             "#f0f921"
            ]
           ],
           "sequentialminus": [
            [
             0,
             "#0d0887"
            ],
            [
             0.1111111111111111,
             "#46039f"
            ],
            [
             0.2222222222222222,
             "#7201a8"
            ],
            [
             0.3333333333333333,
             "#9c179e"
            ],
            [
             0.4444444444444444,
             "#bd3786"
            ],
            [
             0.5555555555555556,
             "#d8576b"
            ],
            [
             0.6666666666666666,
             "#ed7953"
            ],
            [
             0.7777777777777778,
             "#fb9f3a"
            ],
            [
             0.8888888888888888,
             "#fdca26"
            ],
            [
             1,
             "#f0f921"
            ]
           ]
          },
          "colorway": [
           "#636efa",
           "#EF553B",
           "#00cc96",
           "#ab63fa",
           "#FFA15A",
           "#19d3f3",
           "#FF6692",
           "#B6E880",
           "#FF97FF",
           "#FECB52"
          ],
          "font": {
           "color": "#2a3f5f"
          },
          "geo": {
           "bgcolor": "white",
           "lakecolor": "white",
           "landcolor": "#E5ECF6",
           "showlakes": true,
           "showland": true,
           "subunitcolor": "white"
          },
          "hoverlabel": {
           "align": "left"
          },
          "hovermode": "closest",
          "mapbox": {
           "style": "light"
          },
          "paper_bgcolor": "white",
          "plot_bgcolor": "#E5ECF6",
          "polar": {
           "angularaxis": {
            "gridcolor": "white",
            "linecolor": "white",
            "ticks": ""
           },
           "bgcolor": "#E5ECF6",
           "radialaxis": {
            "gridcolor": "white",
            "linecolor": "white",
            "ticks": ""
           }
          },
          "scene": {
           "xaxis": {
            "backgroundcolor": "#E5ECF6",
            "gridcolor": "white",
            "gridwidth": 2,
            "linecolor": "white",
            "showbackground": true,
            "ticks": "",
            "zerolinecolor": "white"
           },
           "yaxis": {
            "backgroundcolor": "#E5ECF6",
            "gridcolor": "white",
            "gridwidth": 2,
            "linecolor": "white",
            "showbackground": true,
            "ticks": "",
            "zerolinecolor": "white"
           },
           "zaxis": {
            "backgroundcolor": "#E5ECF6",
            "gridcolor": "white",
            "gridwidth": 2,
            "linecolor": "white",
            "showbackground": true,
            "ticks": "",
            "zerolinecolor": "white"
           }
          },
          "shapedefaults": {
           "line": {
            "color": "#2a3f5f"
           }
          },
          "ternary": {
           "aaxis": {
            "gridcolor": "white",
            "linecolor": "white",
            "ticks": ""
           },
           "baxis": {
            "gridcolor": "white",
            "linecolor": "white",
            "ticks": ""
           },
           "bgcolor": "#E5ECF6",
           "caxis": {
            "gridcolor": "white",
            "linecolor": "white",
            "ticks": ""
           }
          },
          "title": {
           "x": 0.05
          },
          "xaxis": {
           "automargin": true,
           "gridcolor": "white",
           "linecolor": "white",
           "ticks": "",
           "title": {
            "standoff": 15
           },
           "zerolinecolor": "white",
           "zerolinewidth": 2
          },
          "yaxis": {
           "automargin": true,
           "gridcolor": "white",
           "linecolor": "white",
           "ticks": "",
           "title": {
            "standoff": 15
           },
           "zerolinecolor": "white",
           "zerolinewidth": 2
          }
         }
        },
        "title": {
         "text": "Birth Rate Distribution"
        },
        "xaxis": {
         "anchor": "y",
         "domain": [
          0,
          1
         ],
         "title": {
          "text": "Birth Rate"
         }
        },
        "yaxis": {
         "anchor": "x",
         "domain": [
          0,
          1
         ],
         "title": {
          "text": "Count"
         }
        }
       }
      }
     },
     "metadata": {},
     "output_type": "display_data"
    }
   ],
   "source": [
    "import plotly.express as px\n",
    "fig = px.histogram(dataset, x='birth_rate')\n",
    "fig.update_layout(title = \"Birth Rate Distribution\", height = 500)\n",
    "fig.update_layout(xaxis_title = \"Birth Rate\", yaxis_title = \"Count\")\n",
    "fig.show()"
   ]
  },
  {
   "cell_type": "code",
   "execution_count": 12,
   "metadata": {},
   "outputs": [
    {
     "data": {
      "application/vnd.plotly.v1+json": {
       "config": {
        "plotlyServerURL": "https://plot.ly"
       },
       "data": [
        {
         "alignmentgroup": "True",
         "bingroup": "x",
         "hovertemplate": "death_rate=%{x}<br>count=%{y}<extra></extra>",
         "legendgroup": "",
         "marker": {
          "color": "#636efa",
          "pattern": {
           "shape": ""
          }
         },
         "name": "",
         "offsetgroup": "",
         "orientation": "v",
         "showlegend": false,
         "type": "histogram",
         "x": [
          13.83,
          8.31,
          8.15,
          7.44,
          6.54,
          7.07,
          7.35,
          7.34,
          8.31,
          4.31,
          10.3,
          8.38,
          3.32,
          5.24,
          6.34,
          7.87,
          3.57,
          5.94,
          6.38,
          5.99,
          14.56,
          12.73,
          11.67,
          13.22,
          17.49,
          5.36,
          8.52,
          6.59,
          8.35,
          4.77,
          8.2,
          13.16,
          5.27,
          13.6,
          12.34,
          6.58,
          6.12,
          5.93,
          12.92,
          8.01,
          14.12,
          8.42,
          9.06,
          13.91,
          14.11,
          15.72,
          6.95,
          13.32,
          7,
          6.45,
          7.72,
          9,
          6.16,
          10.4,
          6.53,
          9.45,
          5.29,
          4.79,
          4.57,
          4.64,
          10.62,
          9.38,
          11.29,
          10.17,
          10.51,
          5.93,
          5,
          8.19,
          9.67,
          10.37,
          3.38,
          10.1,
          4.92,
          5.04,
          11.96,
          7.3,
          13.13,
          8.49,
          9.69,
          9.34,
          10.97,
          7.37,
          11.88,
          7.74,
          7.3,
          13.51,
          6.74,
          8.65,
          6.51,
          7.78,
          9.48,
          6.13,
          5.94,
          6.62,
          5.64,
          6.28,
          11,
          5.07,
          9.18,
          8.74,
          7.65,
          8.39,
          5.13,
          9.9,
          14.3,
          7.64,
          4.82,
          7.13,
          6.63,
          12.72,
          10.97,
          3.8,
          7.09,
          10.38,
          1.99,
          10.29,
          13.71,
          4.77,
          11.03,
          6.45,
          10.77,
          6.06,
          11.55,
          13.6,
          null,
          7.43,
          12.13,
          9.64,
          4.49,
          9.7,
          4.5,
          13.69,
          10.23,
          8.57,
          8.1,
          6.78,
          14.54,
          6.97,
          12.6,
          10.76,
          14.91,
          9.3,
          3.86,
          6.47,
          8.39,
          9.54,
          7.91,
          9.18,
          9.04,
          7.84,
          5.95,
          5.67,
          5.54,
          11.25,
          5.45,
          6,
          2.16,
          13.75,
          6.18,
          7,
          9.3,
          8.51,
          4.14,
          null,
          1.53,
          7.26,
          6.67,
          null,
          4.95,
          6.57,
          3.51,
          3.47,
          8.48,
          4.93,
          6.17,
          5.32,
          8.53,
          7.76,
          6.85,
          8.24,
          8.71,
          6.93,
          7.45,
          3.08,
          7.18,
          2.67,
          7.94,
          4.86,
          4.25,
          3.42,
          7.32,
          10.03,
          5.04,
          6.82,
          3.61,
          7.93,
          6.9,
          8,
          5.7,
          8.41,
          7.12,
          3.09,
          8.04,
          8.96,
          7.33,
          3.84,
          5.41,
          7.08,
          null,
          9.27,
          7.8,
          4.68,
          4.24,
          8.09,
          7.02,
          4.93,
          4.95,
          null,
          7.63,
          6.52,
          4.54,
          8.69,
          8.31,
          null,
          8.06,
          null,
          null,
          4.51,
          4.1,
          8.9,
          5.9,
          null,
          null,
          8.33,
          9.01,
          null,
          null,
          null,
          null,
          null,
          null,
          null,
          null,
          null,
          null,
          null,
          null,
          null,
          null,
          null,
          null,
          null,
          null,
          null,
          null,
          null,
          null,
          null,
          null
         ],
         "xaxis": "x",
         "yaxis": "y"
        }
       ],
       "layout": {
        "barmode": "relative",
        "height": 500,
        "legend": {
         "tracegroupgap": 0
        },
        "margin": {
         "t": 60
        },
        "template": {
         "data": {
          "bar": [
           {
            "error_x": {
             "color": "#2a3f5f"
            },
            "error_y": {
             "color": "#2a3f5f"
            },
            "marker": {
             "line": {
              "color": "#E5ECF6",
              "width": 0.5
             },
             "pattern": {
              "fillmode": "overlay",
              "size": 10,
              "solidity": 0.2
             }
            },
            "type": "bar"
           }
          ],
          "barpolar": [
           {
            "marker": {
             "line": {
              "color": "#E5ECF6",
              "width": 0.5
             },
             "pattern": {
              "fillmode": "overlay",
              "size": 10,
              "solidity": 0.2
             }
            },
            "type": "barpolar"
           }
          ],
          "carpet": [
           {
            "aaxis": {
             "endlinecolor": "#2a3f5f",
             "gridcolor": "white",
             "linecolor": "white",
             "minorgridcolor": "white",
             "startlinecolor": "#2a3f5f"
            },
            "baxis": {
             "endlinecolor": "#2a3f5f",
             "gridcolor": "white",
             "linecolor": "white",
             "minorgridcolor": "white",
             "startlinecolor": "#2a3f5f"
            },
            "type": "carpet"
           }
          ],
          "choropleth": [
           {
            "colorbar": {
             "outlinewidth": 0,
             "ticks": ""
            },
            "type": "choropleth"
           }
          ],
          "contour": [
           {
            "colorbar": {
             "outlinewidth": 0,
             "ticks": ""
            },
            "colorscale": [
             [
              0,
              "#0d0887"
             ],
             [
              0.1111111111111111,
              "#46039f"
             ],
             [
              0.2222222222222222,
              "#7201a8"
             ],
             [
              0.3333333333333333,
              "#9c179e"
             ],
             [
              0.4444444444444444,
              "#bd3786"
             ],
             [
              0.5555555555555556,
              "#d8576b"
             ],
             [
              0.6666666666666666,
              "#ed7953"
             ],
             [
              0.7777777777777778,
              "#fb9f3a"
             ],
             [
              0.8888888888888888,
              "#fdca26"
             ],
             [
              1,
              "#f0f921"
             ]
            ],
            "type": "contour"
           }
          ],
          "contourcarpet": [
           {
            "colorbar": {
             "outlinewidth": 0,
             "ticks": ""
            },
            "type": "contourcarpet"
           }
          ],
          "heatmap": [
           {
            "colorbar": {
             "outlinewidth": 0,
             "ticks": ""
            },
            "colorscale": [
             [
              0,
              "#0d0887"
             ],
             [
              0.1111111111111111,
              "#46039f"
             ],
             [
              0.2222222222222222,
              "#7201a8"
             ],
             [
              0.3333333333333333,
              "#9c179e"
             ],
             [
              0.4444444444444444,
              "#bd3786"
             ],
             [
              0.5555555555555556,
              "#d8576b"
             ],
             [
              0.6666666666666666,
              "#ed7953"
             ],
             [
              0.7777777777777778,
              "#fb9f3a"
             ],
             [
              0.8888888888888888,
              "#fdca26"
             ],
             [
              1,
              "#f0f921"
             ]
            ],
            "type": "heatmap"
           }
          ],
          "heatmapgl": [
           {
            "colorbar": {
             "outlinewidth": 0,
             "ticks": ""
            },
            "colorscale": [
             [
              0,
              "#0d0887"
             ],
             [
              0.1111111111111111,
              "#46039f"
             ],
             [
              0.2222222222222222,
              "#7201a8"
             ],
             [
              0.3333333333333333,
              "#9c179e"
             ],
             [
              0.4444444444444444,
              "#bd3786"
             ],
             [
              0.5555555555555556,
              "#d8576b"
             ],
             [
              0.6666666666666666,
              "#ed7953"
             ],
             [
              0.7777777777777778,
              "#fb9f3a"
             ],
             [
              0.8888888888888888,
              "#fdca26"
             ],
             [
              1,
              "#f0f921"
             ]
            ],
            "type": "heatmapgl"
           }
          ],
          "histogram": [
           {
            "marker": {
             "pattern": {
              "fillmode": "overlay",
              "size": 10,
              "solidity": 0.2
             }
            },
            "type": "histogram"
           }
          ],
          "histogram2d": [
           {
            "colorbar": {
             "outlinewidth": 0,
             "ticks": ""
            },
            "colorscale": [
             [
              0,
              "#0d0887"
             ],
             [
              0.1111111111111111,
              "#46039f"
             ],
             [
              0.2222222222222222,
              "#7201a8"
             ],
             [
              0.3333333333333333,
              "#9c179e"
             ],
             [
              0.4444444444444444,
              "#bd3786"
             ],
             [
              0.5555555555555556,
              "#d8576b"
             ],
             [
              0.6666666666666666,
              "#ed7953"
             ],
             [
              0.7777777777777778,
              "#fb9f3a"
             ],
             [
              0.8888888888888888,
              "#fdca26"
             ],
             [
              1,
              "#f0f921"
             ]
            ],
            "type": "histogram2d"
           }
          ],
          "histogram2dcontour": [
           {
            "colorbar": {
             "outlinewidth": 0,
             "ticks": ""
            },
            "colorscale": [
             [
              0,
              "#0d0887"
             ],
             [
              0.1111111111111111,
              "#46039f"
             ],
             [
              0.2222222222222222,
              "#7201a8"
             ],
             [
              0.3333333333333333,
              "#9c179e"
             ],
             [
              0.4444444444444444,
              "#bd3786"
             ],
             [
              0.5555555555555556,
              "#d8576b"
             ],
             [
              0.6666666666666666,
              "#ed7953"
             ],
             [
              0.7777777777777778,
              "#fb9f3a"
             ],
             [
              0.8888888888888888,
              "#fdca26"
             ],
             [
              1,
              "#f0f921"
             ]
            ],
            "type": "histogram2dcontour"
           }
          ],
          "mesh3d": [
           {
            "colorbar": {
             "outlinewidth": 0,
             "ticks": ""
            },
            "type": "mesh3d"
           }
          ],
          "parcoords": [
           {
            "line": {
             "colorbar": {
              "outlinewidth": 0,
              "ticks": ""
             }
            },
            "type": "parcoords"
           }
          ],
          "pie": [
           {
            "automargin": true,
            "type": "pie"
           }
          ],
          "scatter": [
           {
            "fillpattern": {
             "fillmode": "overlay",
             "size": 10,
             "solidity": 0.2
            },
            "type": "scatter"
           }
          ],
          "scatter3d": [
           {
            "line": {
             "colorbar": {
              "outlinewidth": 0,
              "ticks": ""
             }
            },
            "marker": {
             "colorbar": {
              "outlinewidth": 0,
              "ticks": ""
             }
            },
            "type": "scatter3d"
           }
          ],
          "scattercarpet": [
           {
            "marker": {
             "colorbar": {
              "outlinewidth": 0,
              "ticks": ""
             }
            },
            "type": "scattercarpet"
           }
          ],
          "scattergeo": [
           {
            "marker": {
             "colorbar": {
              "outlinewidth": 0,
              "ticks": ""
             }
            },
            "type": "scattergeo"
           }
          ],
          "scattergl": [
           {
            "marker": {
             "colorbar": {
              "outlinewidth": 0,
              "ticks": ""
             }
            },
            "type": "scattergl"
           }
          ],
          "scattermapbox": [
           {
            "marker": {
             "colorbar": {
              "outlinewidth": 0,
              "ticks": ""
             }
            },
            "type": "scattermapbox"
           }
          ],
          "scatterpolar": [
           {
            "marker": {
             "colorbar": {
              "outlinewidth": 0,
              "ticks": ""
             }
            },
            "type": "scatterpolar"
           }
          ],
          "scatterpolargl": [
           {
            "marker": {
             "colorbar": {
              "outlinewidth": 0,
              "ticks": ""
             }
            },
            "type": "scatterpolargl"
           }
          ],
          "scatterternary": [
           {
            "marker": {
             "colorbar": {
              "outlinewidth": 0,
              "ticks": ""
             }
            },
            "type": "scatterternary"
           }
          ],
          "surface": [
           {
            "colorbar": {
             "outlinewidth": 0,
             "ticks": ""
            },
            "colorscale": [
             [
              0,
              "#0d0887"
             ],
             [
              0.1111111111111111,
              "#46039f"
             ],
             [
              0.2222222222222222,
              "#7201a8"
             ],
             [
              0.3333333333333333,
              "#9c179e"
             ],
             [
              0.4444444444444444,
              "#bd3786"
             ],
             [
              0.5555555555555556,
              "#d8576b"
             ],
             [
              0.6666666666666666,
              "#ed7953"
             ],
             [
              0.7777777777777778,
              "#fb9f3a"
             ],
             [
              0.8888888888888888,
              "#fdca26"
             ],
             [
              1,
              "#f0f921"
             ]
            ],
            "type": "surface"
           }
          ],
          "table": [
           {
            "cells": {
             "fill": {
              "color": "#EBF0F8"
             },
             "line": {
              "color": "white"
             }
            },
            "header": {
             "fill": {
              "color": "#C8D4E3"
             },
             "line": {
              "color": "white"
             }
            },
            "type": "table"
           }
          ]
         },
         "layout": {
          "annotationdefaults": {
           "arrowcolor": "#2a3f5f",
           "arrowhead": 0,
           "arrowwidth": 1
          },
          "autotypenumbers": "strict",
          "coloraxis": {
           "colorbar": {
            "outlinewidth": 0,
            "ticks": ""
           }
          },
          "colorscale": {
           "diverging": [
            [
             0,
             "#8e0152"
            ],
            [
             0.1,
             "#c51b7d"
            ],
            [
             0.2,
             "#de77ae"
            ],
            [
             0.3,
             "#f1b6da"
            ],
            [
             0.4,
             "#fde0ef"
            ],
            [
             0.5,
             "#f7f7f7"
            ],
            [
             0.6,
             "#e6f5d0"
            ],
            [
             0.7,
             "#b8e186"
            ],
            [
             0.8,
             "#7fbc41"
            ],
            [
             0.9,
             "#4d9221"
            ],
            [
             1,
             "#276419"
            ]
           ],
           "sequential": [
            [
             0,
             "#0d0887"
            ],
            [
             0.1111111111111111,
             "#46039f"
            ],
            [
             0.2222222222222222,
             "#7201a8"
            ],
            [
             0.3333333333333333,
             "#9c179e"
            ],
            [
             0.4444444444444444,
             "#bd3786"
            ],
            [
             0.5555555555555556,
             "#d8576b"
            ],
            [
             0.6666666666666666,
             "#ed7953"
            ],
            [
             0.7777777777777778,
             "#fb9f3a"
            ],
            [
             0.8888888888888888,
             "#fdca26"
            ],
            [
             1,
             "#f0f921"
            ]
           ],
           "sequentialminus": [
            [
             0,
             "#0d0887"
            ],
            [
             0.1111111111111111,
             "#46039f"
            ],
            [
             0.2222222222222222,
             "#7201a8"
            ],
            [
             0.3333333333333333,
             "#9c179e"
            ],
            [
             0.4444444444444444,
             "#bd3786"
            ],
            [
             0.5555555555555556,
             "#d8576b"
            ],
            [
             0.6666666666666666,
             "#ed7953"
            ],
            [
             0.7777777777777778,
             "#fb9f3a"
            ],
            [
             0.8888888888888888,
             "#fdca26"
            ],
            [
             1,
             "#f0f921"
            ]
           ]
          },
          "colorway": [
           "#636efa",
           "#EF553B",
           "#00cc96",
           "#ab63fa",
           "#FFA15A",
           "#19d3f3",
           "#FF6692",
           "#B6E880",
           "#FF97FF",
           "#FECB52"
          ],
          "font": {
           "color": "#2a3f5f"
          },
          "geo": {
           "bgcolor": "white",
           "lakecolor": "white",
           "landcolor": "#E5ECF6",
           "showlakes": true,
           "showland": true,
           "subunitcolor": "white"
          },
          "hoverlabel": {
           "align": "left"
          },
          "hovermode": "closest",
          "mapbox": {
           "style": "light"
          },
          "paper_bgcolor": "white",
          "plot_bgcolor": "#E5ECF6",
          "polar": {
           "angularaxis": {
            "gridcolor": "white",
            "linecolor": "white",
            "ticks": ""
           },
           "bgcolor": "#E5ECF6",
           "radialaxis": {
            "gridcolor": "white",
            "linecolor": "white",
            "ticks": ""
           }
          },
          "scene": {
           "xaxis": {
            "backgroundcolor": "#E5ECF6",
            "gridcolor": "white",
            "gridwidth": 2,
            "linecolor": "white",
            "showbackground": true,
            "ticks": "",
            "zerolinecolor": "white"
           },
           "yaxis": {
            "backgroundcolor": "#E5ECF6",
            "gridcolor": "white",
            "gridwidth": 2,
            "linecolor": "white",
            "showbackground": true,
            "ticks": "",
            "zerolinecolor": "white"
           },
           "zaxis": {
            "backgroundcolor": "#E5ECF6",
            "gridcolor": "white",
            "gridwidth": 2,
            "linecolor": "white",
            "showbackground": true,
            "ticks": "",
            "zerolinecolor": "white"
           }
          },
          "shapedefaults": {
           "line": {
            "color": "#2a3f5f"
           }
          },
          "ternary": {
           "aaxis": {
            "gridcolor": "white",
            "linecolor": "white",
            "ticks": ""
           },
           "baxis": {
            "gridcolor": "white",
            "linecolor": "white",
            "ticks": ""
           },
           "bgcolor": "#E5ECF6",
           "caxis": {
            "gridcolor": "white",
            "linecolor": "white",
            "ticks": ""
           }
          },
          "title": {
           "x": 0.05
          },
          "xaxis": {
           "automargin": true,
           "gridcolor": "white",
           "linecolor": "white",
           "ticks": "",
           "title": {
            "standoff": 15
           },
           "zerolinecolor": "white",
           "zerolinewidth": 2
          },
          "yaxis": {
           "automargin": true,
           "gridcolor": "white",
           "linecolor": "white",
           "ticks": "",
           "title": {
            "standoff": 15
           },
           "zerolinecolor": "white",
           "zerolinewidth": 2
          }
         }
        },
        "title": {
         "text": "Death Rate Distribution"
        },
        "xaxis": {
         "anchor": "y",
         "domain": [
          0,
          1
         ],
         "title": {
          "text": "Death Rate"
         }
        },
        "yaxis": {
         "anchor": "x",
         "domain": [
          0,
          1
         ],
         "title": {
          "text": "Count"
         }
        }
       }
      }
     },
     "metadata": {},
     "output_type": "display_data"
    }
   ],
   "source": [
    "fig = px.histogram(dataset, x='death_rate')\n",
    "fig.update_layout(title = \"Death Rate Distribution\", height = 500)\n",
    "fig.update_layout(xaxis_title = \"Death Rate\", yaxis_title = \"Count\")\n",
    "fig.show()"
   ]
  },
  {
   "cell_type": "code",
   "execution_count": 13,
   "metadata": {},
   "outputs": [
    {
     "data": {
      "application/vnd.plotly.v1+json": {
       "config": {
        "plotlyServerURL": "https://plot.ly"
       },
       "data": [
        {
         "alignmentgroup": "True",
         "bingroup": "x",
         "hovertemplate": "population=%{x}<br>count=%{y}<extra></extra>",
         "legendgroup": "",
         "marker": {
          "color": "#636efa",
          "pattern": {
           "shape": ""
          }
         },
         "name": "",
         "offsetgroup": "",
         "orientation": "v",
         "showlegend": false,
         "type": "histogram",
         "x": [
          142470272,
          34834841,
          318892103,
          1355692576,
          202656788,
          22507617,
          1236344631,
          43024374,
          17948816,
          38813722,
          77433744,
          57728,
          27345986,
          120286655,
          253609643,
          35482233,
          6244174,
          80840713,
          2953190,
          30147935,
          11412107,
          17466172,
          19088106,
          16455903,
          48375645,
          46245297,
          96633458,
          10631486,
          3516806,
          86895099,
          49639138,
          177155754,
          28868486,
          2198406,
          24692144,
          196174380,
          81619392,
          17363894,
          14638505,
          55746253,
          31822848,
          11562695,
          66259012,
          10428043,
          5277959,
          44291413,
          23201926,
          2155784,
          45010056,
          26052966,
          67741401,
          47737941,
          5171943,
          23130708,
          6552730,
          9723809,
          28929716,
          32987206,
          32585692,
          6703860,
          13771721,
          127103388,
          80996685,
          4662446,
          5268799,
          93421835,
          30073353,
          5147792,
          22848945,
          38346279,
          3219775,
          61680122,
          107668231,
          15654411,
          18365123,
          4401916,
          1672597,
          554795,
          11474383,
          63742977,
          35918915,
          25758108,
          21729871,
          6803699,
          735554,
          9608058,
          5604212,
          13635927,
          17951639,
          15458332,
          3332972,
          573311,
          10937521,
          30986975,
          166280712,
          8051512,
          10775557,
          5848641,
          24851627,
          17377468,
          6380803,
          10160556,
          8598561,
          4092310,
          6924716,
          11047251,
          14647083,
          317351,
          49039986,
          9919128,
          10813834,
          7930491,
          9686210,
          8223062,
          5628805,
          10627448,
          7209764,
          3608431,
          5743725,
          4832765,
          4935880,
          21866445,
          3505738,
          2165165,
          1872,
          7351374,
          4470534,
          3871643,
          4755234,
          5443583,
          10349741,
          1257921,
          5569077,
          16877351,
          8061516,
          733643,
          1693398,
          23359928,
          3583288,
          10449361,
          1942008,
          3060631,
          609883,
          3020209,
          722254,
          10395931,
          9996731,
          12337138,
          2091719,
          810179,
          340844,
          6125512,
          7821850,
          1988292,
          267840,
          903207,
          2742711,
          1419623,
          1201542,
          321834,
          650036,
          3620897,
          266937,
          3361,
          2123160,
          1925527,
          2930050,
          1859203,
          5882562,
          1172458,
          2731052,
          422675,
          1223916,
          280026,
          538535,
          196628,
          520672,
          766865,
          1331155,
          104170,
          49947,
          7112688,
          190428,
          49070,
          104488,
          1314089,
          73449,
          106440,
          105681,
          5567301,
          163362,
          86866,
          161001,
          85458,
          51483,
          21186,
          91650,
          146836,
          91295,
          289680,
          102918,
          1816379,
          110152,
          412655,
          7776,
          393595,
          54914,
          51538,
          1190,
          5716,
          10134,
          54517,
          70983,
          110663,
          37313,
          32680,
          15561,
          1530,
          96513,
          5215,
          16086,
          65849,
          32742,
          31530,
          69839,
          48,
          2210,
          39689,
          587914,
          10782,
          9488,
          596,
          1337,
          29185,
          30508,
          842,
          null,
          null,
          null,
          null,
          null,
          null,
          null,
          null,
          null,
          null,
          null,
          null,
          null,
          null,
          null,
          null,
          null,
          null,
          null,
          null,
          null,
          511434812,
          7267
         ],
         "xaxis": "x",
         "yaxis": "y"
        }
       ],
       "layout": {
        "barmode": "relative",
        "height": 500,
        "legend": {
         "tracegroupgap": 0
        },
        "margin": {
         "t": 60
        },
        "template": {
         "data": {
          "bar": [
           {
            "error_x": {
             "color": "#2a3f5f"
            },
            "error_y": {
             "color": "#2a3f5f"
            },
            "marker": {
             "line": {
              "color": "#E5ECF6",
              "width": 0.5
             },
             "pattern": {
              "fillmode": "overlay",
              "size": 10,
              "solidity": 0.2
             }
            },
            "type": "bar"
           }
          ],
          "barpolar": [
           {
            "marker": {
             "line": {
              "color": "#E5ECF6",
              "width": 0.5
             },
             "pattern": {
              "fillmode": "overlay",
              "size": 10,
              "solidity": 0.2
             }
            },
            "type": "barpolar"
           }
          ],
          "carpet": [
           {
            "aaxis": {
             "endlinecolor": "#2a3f5f",
             "gridcolor": "white",
             "linecolor": "white",
             "minorgridcolor": "white",
             "startlinecolor": "#2a3f5f"
            },
            "baxis": {
             "endlinecolor": "#2a3f5f",
             "gridcolor": "white",
             "linecolor": "white",
             "minorgridcolor": "white",
             "startlinecolor": "#2a3f5f"
            },
            "type": "carpet"
           }
          ],
          "choropleth": [
           {
            "colorbar": {
             "outlinewidth": 0,
             "ticks": ""
            },
            "type": "choropleth"
           }
          ],
          "contour": [
           {
            "colorbar": {
             "outlinewidth": 0,
             "ticks": ""
            },
            "colorscale": [
             [
              0,
              "#0d0887"
             ],
             [
              0.1111111111111111,
              "#46039f"
             ],
             [
              0.2222222222222222,
              "#7201a8"
             ],
             [
              0.3333333333333333,
              "#9c179e"
             ],
             [
              0.4444444444444444,
              "#bd3786"
             ],
             [
              0.5555555555555556,
              "#d8576b"
             ],
             [
              0.6666666666666666,
              "#ed7953"
             ],
             [
              0.7777777777777778,
              "#fb9f3a"
             ],
             [
              0.8888888888888888,
              "#fdca26"
             ],
             [
              1,
              "#f0f921"
             ]
            ],
            "type": "contour"
           }
          ],
          "contourcarpet": [
           {
            "colorbar": {
             "outlinewidth": 0,
             "ticks": ""
            },
            "type": "contourcarpet"
           }
          ],
          "heatmap": [
           {
            "colorbar": {
             "outlinewidth": 0,
             "ticks": ""
            },
            "colorscale": [
             [
              0,
              "#0d0887"
             ],
             [
              0.1111111111111111,
              "#46039f"
             ],
             [
              0.2222222222222222,
              "#7201a8"
             ],
             [
              0.3333333333333333,
              "#9c179e"
             ],
             [
              0.4444444444444444,
              "#bd3786"
             ],
             [
              0.5555555555555556,
              "#d8576b"
             ],
             [
              0.6666666666666666,
              "#ed7953"
             ],
             [
              0.7777777777777778,
              "#fb9f3a"
             ],
             [
              0.8888888888888888,
              "#fdca26"
             ],
             [
              1,
              "#f0f921"
             ]
            ],
            "type": "heatmap"
           }
          ],
          "heatmapgl": [
           {
            "colorbar": {
             "outlinewidth": 0,
             "ticks": ""
            },
            "colorscale": [
             [
              0,
              "#0d0887"
             ],
             [
              0.1111111111111111,
              "#46039f"
             ],
             [
              0.2222222222222222,
              "#7201a8"
             ],
             [
              0.3333333333333333,
              "#9c179e"
             ],
             [
              0.4444444444444444,
              "#bd3786"
             ],
             [
              0.5555555555555556,
              "#d8576b"
             ],
             [
              0.6666666666666666,
              "#ed7953"
             ],
             [
              0.7777777777777778,
              "#fb9f3a"
             ],
             [
              0.8888888888888888,
              "#fdca26"
             ],
             [
              1,
              "#f0f921"
             ]
            ],
            "type": "heatmapgl"
           }
          ],
          "histogram": [
           {
            "marker": {
             "pattern": {
              "fillmode": "overlay",
              "size": 10,
              "solidity": 0.2
             }
            },
            "type": "histogram"
           }
          ],
          "histogram2d": [
           {
            "colorbar": {
             "outlinewidth": 0,
             "ticks": ""
            },
            "colorscale": [
             [
              0,
              "#0d0887"
             ],
             [
              0.1111111111111111,
              "#46039f"
             ],
             [
              0.2222222222222222,
              "#7201a8"
             ],
             [
              0.3333333333333333,
              "#9c179e"
             ],
             [
              0.4444444444444444,
              "#bd3786"
             ],
             [
              0.5555555555555556,
              "#d8576b"
             ],
             [
              0.6666666666666666,
              "#ed7953"
             ],
             [
              0.7777777777777778,
              "#fb9f3a"
             ],
             [
              0.8888888888888888,
              "#fdca26"
             ],
             [
              1,
              "#f0f921"
             ]
            ],
            "type": "histogram2d"
           }
          ],
          "histogram2dcontour": [
           {
            "colorbar": {
             "outlinewidth": 0,
             "ticks": ""
            },
            "colorscale": [
             [
              0,
              "#0d0887"
             ],
             [
              0.1111111111111111,
              "#46039f"
             ],
             [
              0.2222222222222222,
              "#7201a8"
             ],
             [
              0.3333333333333333,
              "#9c179e"
             ],
             [
              0.4444444444444444,
              "#bd3786"
             ],
             [
              0.5555555555555556,
              "#d8576b"
             ],
             [
              0.6666666666666666,
              "#ed7953"
             ],
             [
              0.7777777777777778,
              "#fb9f3a"
             ],
             [
              0.8888888888888888,
              "#fdca26"
             ],
             [
              1,
              "#f0f921"
             ]
            ],
            "type": "histogram2dcontour"
           }
          ],
          "mesh3d": [
           {
            "colorbar": {
             "outlinewidth": 0,
             "ticks": ""
            },
            "type": "mesh3d"
           }
          ],
          "parcoords": [
           {
            "line": {
             "colorbar": {
              "outlinewidth": 0,
              "ticks": ""
             }
            },
            "type": "parcoords"
           }
          ],
          "pie": [
           {
            "automargin": true,
            "type": "pie"
           }
          ],
          "scatter": [
           {
            "fillpattern": {
             "fillmode": "overlay",
             "size": 10,
             "solidity": 0.2
            },
            "type": "scatter"
           }
          ],
          "scatter3d": [
           {
            "line": {
             "colorbar": {
              "outlinewidth": 0,
              "ticks": ""
             }
            },
            "marker": {
             "colorbar": {
              "outlinewidth": 0,
              "ticks": ""
             }
            },
            "type": "scatter3d"
           }
          ],
          "scattercarpet": [
           {
            "marker": {
             "colorbar": {
              "outlinewidth": 0,
              "ticks": ""
             }
            },
            "type": "scattercarpet"
           }
          ],
          "scattergeo": [
           {
            "marker": {
             "colorbar": {
              "outlinewidth": 0,
              "ticks": ""
             }
            },
            "type": "scattergeo"
           }
          ],
          "scattergl": [
           {
            "marker": {
             "colorbar": {
              "outlinewidth": 0,
              "ticks": ""
             }
            },
            "type": "scattergl"
           }
          ],
          "scattermapbox": [
           {
            "marker": {
             "colorbar": {
              "outlinewidth": 0,
              "ticks": ""
             }
            },
            "type": "scattermapbox"
           }
          ],
          "scatterpolar": [
           {
            "marker": {
             "colorbar": {
              "outlinewidth": 0,
              "ticks": ""
             }
            },
            "type": "scatterpolar"
           }
          ],
          "scatterpolargl": [
           {
            "marker": {
             "colorbar": {
              "outlinewidth": 0,
              "ticks": ""
             }
            },
            "type": "scatterpolargl"
           }
          ],
          "scatterternary": [
           {
            "marker": {
             "colorbar": {
              "outlinewidth": 0,
              "ticks": ""
             }
            },
            "type": "scatterternary"
           }
          ],
          "surface": [
           {
            "colorbar": {
             "outlinewidth": 0,
             "ticks": ""
            },
            "colorscale": [
             [
              0,
              "#0d0887"
             ],
             [
              0.1111111111111111,
              "#46039f"
             ],
             [
              0.2222222222222222,
              "#7201a8"
             ],
             [
              0.3333333333333333,
              "#9c179e"
             ],
             [
              0.4444444444444444,
              "#bd3786"
             ],
             [
              0.5555555555555556,
              "#d8576b"
             ],
             [
              0.6666666666666666,
              "#ed7953"
             ],
             [
              0.7777777777777778,
              "#fb9f3a"
             ],
             [
              0.8888888888888888,
              "#fdca26"
             ],
             [
              1,
              "#f0f921"
             ]
            ],
            "type": "surface"
           }
          ],
          "table": [
           {
            "cells": {
             "fill": {
              "color": "#EBF0F8"
             },
             "line": {
              "color": "white"
             }
            },
            "header": {
             "fill": {
              "color": "#C8D4E3"
             },
             "line": {
              "color": "white"
             }
            },
            "type": "table"
           }
          ]
         },
         "layout": {
          "annotationdefaults": {
           "arrowcolor": "#2a3f5f",
           "arrowhead": 0,
           "arrowwidth": 1
          },
          "autotypenumbers": "strict",
          "coloraxis": {
           "colorbar": {
            "outlinewidth": 0,
            "ticks": ""
           }
          },
          "colorscale": {
           "diverging": [
            [
             0,
             "#8e0152"
            ],
            [
             0.1,
             "#c51b7d"
            ],
            [
             0.2,
             "#de77ae"
            ],
            [
             0.3,
             "#f1b6da"
            ],
            [
             0.4,
             "#fde0ef"
            ],
            [
             0.5,
             "#f7f7f7"
            ],
            [
             0.6,
             "#e6f5d0"
            ],
            [
             0.7,
             "#b8e186"
            ],
            [
             0.8,
             "#7fbc41"
            ],
            [
             0.9,
             "#4d9221"
            ],
            [
             1,
             "#276419"
            ]
           ],
           "sequential": [
            [
             0,
             "#0d0887"
            ],
            [
             0.1111111111111111,
             "#46039f"
            ],
            [
             0.2222222222222222,
             "#7201a8"
            ],
            [
             0.3333333333333333,
             "#9c179e"
            ],
            [
             0.4444444444444444,
             "#bd3786"
            ],
            [
             0.5555555555555556,
             "#d8576b"
            ],
            [
             0.6666666666666666,
             "#ed7953"
            ],
            [
             0.7777777777777778,
             "#fb9f3a"
            ],
            [
             0.8888888888888888,
             "#fdca26"
            ],
            [
             1,
             "#f0f921"
            ]
           ],
           "sequentialminus": [
            [
             0,
             "#0d0887"
            ],
            [
             0.1111111111111111,
             "#46039f"
            ],
            [
             0.2222222222222222,
             "#7201a8"
            ],
            [
             0.3333333333333333,
             "#9c179e"
            ],
            [
             0.4444444444444444,
             "#bd3786"
            ],
            [
             0.5555555555555556,
             "#d8576b"
            ],
            [
             0.6666666666666666,
             "#ed7953"
            ],
            [
             0.7777777777777778,
             "#fb9f3a"
            ],
            [
             0.8888888888888888,
             "#fdca26"
            ],
            [
             1,
             "#f0f921"
            ]
           ]
          },
          "colorway": [
           "#636efa",
           "#EF553B",
           "#00cc96",
           "#ab63fa",
           "#FFA15A",
           "#19d3f3",
           "#FF6692",
           "#B6E880",
           "#FF97FF",
           "#FECB52"
          ],
          "font": {
           "color": "#2a3f5f"
          },
          "geo": {
           "bgcolor": "white",
           "lakecolor": "white",
           "landcolor": "#E5ECF6",
           "showlakes": true,
           "showland": true,
           "subunitcolor": "white"
          },
          "hoverlabel": {
           "align": "left"
          },
          "hovermode": "closest",
          "mapbox": {
           "style": "light"
          },
          "paper_bgcolor": "white",
          "plot_bgcolor": "#E5ECF6",
          "polar": {
           "angularaxis": {
            "gridcolor": "white",
            "linecolor": "white",
            "ticks": ""
           },
           "bgcolor": "#E5ECF6",
           "radialaxis": {
            "gridcolor": "white",
            "linecolor": "white",
            "ticks": ""
           }
          },
          "scene": {
           "xaxis": {
            "backgroundcolor": "#E5ECF6",
            "gridcolor": "white",
            "gridwidth": 2,
            "linecolor": "white",
            "showbackground": true,
            "ticks": "",
            "zerolinecolor": "white"
           },
           "yaxis": {
            "backgroundcolor": "#E5ECF6",
            "gridcolor": "white",
            "gridwidth": 2,
            "linecolor": "white",
            "showbackground": true,
            "ticks": "",
            "zerolinecolor": "white"
           },
           "zaxis": {
            "backgroundcolor": "#E5ECF6",
            "gridcolor": "white",
            "gridwidth": 2,
            "linecolor": "white",
            "showbackground": true,
            "ticks": "",
            "zerolinecolor": "white"
           }
          },
          "shapedefaults": {
           "line": {
            "color": "#2a3f5f"
           }
          },
          "ternary": {
           "aaxis": {
            "gridcolor": "white",
            "linecolor": "white",
            "ticks": ""
           },
           "baxis": {
            "gridcolor": "white",
            "linecolor": "white",
            "ticks": ""
           },
           "bgcolor": "#E5ECF6",
           "caxis": {
            "gridcolor": "white",
            "linecolor": "white",
            "ticks": ""
           }
          },
          "title": {
           "x": 0.05
          },
          "xaxis": {
           "automargin": true,
           "gridcolor": "white",
           "linecolor": "white",
           "ticks": "",
           "title": {
            "standoff": 15
           },
           "zerolinecolor": "white",
           "zerolinewidth": 2
          },
          "yaxis": {
           "automargin": true,
           "gridcolor": "white",
           "linecolor": "white",
           "ticks": "",
           "title": {
            "standoff": 15
           },
           "zerolinecolor": "white",
           "zerolinewidth": 2
          }
         }
        },
        "title": {
         "text": "Population Distribution"
        },
        "xaxis": {
         "anchor": "y",
         "domain": [
          0,
          1
         ],
         "title": {
          "text": "Population"
         }
        },
        "yaxis": {
         "anchor": "x",
         "domain": [
          0,
          1
         ],
         "title": {
          "text": "Count"
         }
        }
       }
      }
     },
     "metadata": {},
     "output_type": "display_data"
    }
   ],
   "source": [
    "fig = px.histogram(dataset, x='population')\n",
    "fig.update_layout(title = \"Population Distribution\", height = 500)\n",
    "fig.update_layout(xaxis_title = \"Population\", yaxis_title = \"Count\")\n",
    "fig.show()"
   ]
  },
  {
   "cell_type": "markdown",
   "metadata": {},
   "source": [
    "Feature Engineering for Missing Data"
   ]
  },
  {
   "cell_type": "code",
   "execution_count": 18,
   "metadata": {},
   "outputs": [
    {
     "data": {
      "text/plain": [
       "country                            0\n",
       "area                               0\n",
       "birth_rate                         0\n",
       "death_rate                         0\n",
       "infant_mortality_rate              0\n",
       "internet_users                     0\n",
       "life_exp_at_birth                  0\n",
       "maternal_mortality_rate            0\n",
       "net_migration_rate                 0\n",
       "population                         0\n",
       "population_growth_rate             0\n",
       "country_missing                    0\n",
       "area_missing                       0\n",
       "birth_rate_missing                 0\n",
       "death_rate_missing                 0\n",
       "infant_mortality_rate_missing      0\n",
       "internet_users_missing             0\n",
       "life_exp_at_birth_missing          0\n",
       "maternal_mortality_rate_missing    0\n",
       "net_migration_rate_missing         0\n",
       "population_missing                 0\n",
       "population_growth_rate_missing     0\n",
       "dtype: int64"
      ]
     },
     "execution_count": 18,
     "metadata": {},
     "output_type": "execute_result"
    }
   ],
   "source": [
    "\n",
    "dataset.isna().sum()"
   ]
  },
  {
   "cell_type": "code",
   "execution_count": 15,
   "metadata": {},
   "outputs": [
    {
     "name": "stdout",
     "output_type": "stream",
     "text": [
      "              country          area  birth_rate  death_rate  \\\n",
      "0              Russia  1.709824e+07   11.870000   13.830000   \n",
      "1              Canada  9.984670e+06   10.290000    8.310000   \n",
      "2       United States  9.826675e+06   13.420000    8.150000   \n",
      "3               China  9.596960e+06   12.170000    7.440000   \n",
      "4              Brazil  8.514877e+06   14.720000    6.540000   \n",
      "..                ...           ...         ...         ...   \n",
      "254     Bouvet Island  4.900000e+01   19.659063    7.906978   \n",
      "255     Palmyra Atoll  1.200000e+01   19.659063    7.906978   \n",
      "256          Akrotiri  1.230000e+02   19.659063    7.906978   \n",
      "257    European Union  5.308881e+05   19.659063    7.906978   \n",
      "258  Saint Barthelemy  5.308881e+05   19.659063    7.906978   \n",
      "\n",
      "     infant_mortality_rate  internet_users  life_exp_at_birth  \\\n",
      "0                  7.08000    4.085300e+07          70.160000   \n",
      "1                  4.71000    2.696000e+07          81.670000   \n",
      "2                  6.17000    2.450000e+08          79.560000   \n",
      "3                 14.79000    3.890000e+08          75.150000   \n",
      "4                 19.21000    7.598200e+07          73.280000   \n",
      "..                     ...             ...                ...   \n",
      "254               24.48442    8.311771e+06          71.826875   \n",
      "255               24.48442    8.311771e+06          71.826875   \n",
      "256               24.48442    8.311771e+06          71.826875   \n",
      "257                4.33000    8.311771e+06          80.020000   \n",
      "258               24.48442    8.311771e+06          71.826875   \n",
      "\n",
      "     maternal_mortality_rate  net_migration_rate    population  ...  \\\n",
      "0                  34.000000            1.690000  1.424703e+08  ...   \n",
      "1                  12.000000            5.660000  3.483484e+07  ...   \n",
      "2                  21.000000            2.450000  3.188921e+08  ...   \n",
      "3                  37.000000           -0.320000  1.355693e+09  ...   \n",
      "4                  56.000000           -0.150000  2.026568e+08  ...   \n",
      "..                       ...                 ...           ...  ...   \n",
      "254               177.972826           -0.181577  3.229436e+07  ...   \n",
      "255               177.972826           -0.181577  3.229436e+07  ...   \n",
      "256               177.972826           -0.181577  3.229436e+07  ...   \n",
      "257               177.972826           -0.181577  5.114348e+08  ...   \n",
      "258               177.972826           -0.181577  7.267000e+03  ...   \n",
      "\n",
      "     area_missing  birth_rate_missing  death_rate_missing  \\\n",
      "0               0                   0                   0   \n",
      "1               0                   0                   0   \n",
      "2               0                   0                   0   \n",
      "3               0                   0                   0   \n",
      "4               0                   0                   0   \n",
      "..            ...                 ...                 ...   \n",
      "254             0                   0                   0   \n",
      "255             0                   0                   0   \n",
      "256             0                   0                   0   \n",
      "257             0                   0                   0   \n",
      "258             0                   0                   0   \n",
      "\n",
      "     infant_mortality_rate_missing  internet_users_missing  \\\n",
      "0                                0                       0   \n",
      "1                                0                       0   \n",
      "2                                0                       0   \n",
      "3                                0                       0   \n",
      "4                                0                       0   \n",
      "..                             ...                     ...   \n",
      "254                              0                       0   \n",
      "255                              0                       0   \n",
      "256                              0                       0   \n",
      "257                              0                       0   \n",
      "258                              0                       0   \n",
      "\n",
      "     life_exp_at_birth_missing  maternal_mortality_rate_missing  \\\n",
      "0                            0                                0   \n",
      "1                            0                                0   \n",
      "2                            0                                0   \n",
      "3                            0                                0   \n",
      "4                            0                                0   \n",
      "..                         ...                              ...   \n",
      "254                          0                                0   \n",
      "255                          0                                0   \n",
      "256                          0                                0   \n",
      "257                          0                                0   \n",
      "258                          0                                0   \n",
      "\n",
      "     net_migration_rate_missing  population_missing  \\\n",
      "0                             0                   0   \n",
      "1                             0                   0   \n",
      "2                             0                   0   \n",
      "3                             0                   0   \n",
      "4                             0                   0   \n",
      "..                          ...                 ...   \n",
      "254                           0                   0   \n",
      "255                           0                   0   \n",
      "256                           0                   0   \n",
      "257                           0                   0   \n",
      "258                           0                   0   \n",
      "\n",
      "     population_growth_rate_missing  \n",
      "0                                 0  \n",
      "1                                 0  \n",
      "2                                 0  \n",
      "3                                 0  \n",
      "4                                 0  \n",
      "..                              ...  \n",
      "254                               0  \n",
      "255                               0  \n",
      "256                               0  \n",
      "257                               0  \n",
      "258                               0  \n",
      "\n",
      "[259 rows x 22 columns]\n"
     ]
    }
   ],
   "source": [
    "# Replace missing values with mean for numeric columns only\n",
    "numeric_columns = dataset.select_dtypes(include='number').columns\n",
    "dataset[numeric_columns] = dataset[numeric_columns].fillna(dataset[numeric_columns].mean())\n",
    "\n",
    "# Create binary indicator variables for missing values\n",
    "for col in dataset.columns:\n",
    "    dataset[col + '_missing'] = dataset[col].isnull().astype(int)\n",
    "\n",
    "# Drop rows with missing values\n",
    "dataset.dropna(inplace=True)\n",
    "\n",
    "# Drop features with too many missing values\n",
    "threshold = 0.5  # Example threshold for dropping features with more than 50% missing values\n",
    "dataset = dataset.dropna(axis=1, thresh=threshold*len(dataset))\n",
    "\n",
    "# Print the modified dataset\n",
    "print(dataset)\n"
   ]
  },
  {
   "cell_type": "markdown",
   "metadata": {},
   "source": [
    "TASK: What countries have NaN for Agriculture? What is the main aspect of these countries?"
   ]
  },
  {
   "cell_type": "code",
   "execution_count": 21,
   "metadata": {},
   "outputs": [
    {
     "name": "stdout",
     "output_type": "stream",
     "text": [
      "Countries with missing data:\n",
      "Series([], Name: country, dtype: object)\n",
      "\n",
      "Main aspect of these countries based on mean feature values: nan\n"
     ]
    },
    {
     "name": "stderr",
     "output_type": "stream",
     "text": [
      "C:\\Users\\FREDDIE\\AppData\\Local\\Temp\\ipykernel_16456\\1872381365.py:9: FutureWarning:\n",
      "\n",
      "The behavior of Series.idxmax with all-NA values, or any-NA and skipna=False, is deprecated. In a future version this will raise ValueError\n",
      "\n"
     ]
    }
   ],
   "source": [
    "# Select countries with missing data in any feature\n",
    "countries_with_missing_data = dataset[dataset.iloc[:, :-11].isnull().any(axis=1)]['country']\n",
    "\n",
    "# Print countries with missing data\n",
    "print(\"Countries with missing data:\")\n",
    "print(countries_with_missing_data)\n",
    "\n",
    "# Explore other features to identify the main aspect of these countries\n",
    "main_aspect = dataset.loc[countries_with_missing_data.index].mean().idxmax()\n",
    "print(\"\\nMain aspect of these countries based on mean feature values:\", main_aspect)\n",
    "\n"
   ]
  },
  {
   "cell_type": "code",
   "execution_count": 22,
   "metadata": {},
   "outputs": [
    {
     "name": "stdout",
     "output_type": "stream",
     "text": [
      "Countries with NaN for Agriculture-related features:\n",
      "Series([], Name: country, dtype: object)\n",
      "\n",
      "Main aspect of these countries based on mean feature values: nan\n"
     ]
    },
    {
     "name": "stderr",
     "output_type": "stream",
     "text": [
      "C:\\Users\\FREDDIE\\AppData\\Local\\Temp\\ipykernel_16456\\649816911.py:10: FutureWarning:\n",
      "\n",
      "The behavior of Series.idxmax with all-NA values, or any-NA and skipna=False, is deprecated. In a future version this will raise ValueError\n",
      "\n"
     ]
    }
   ],
   "source": [
    "# Select countries with NaN values in agriculture-related features\n",
    "agriculture_related_features = ['birth_rate', 'death_rate', 'population_growth_rate']\n",
    "countries_with_nan_agriculture = dataset[dataset[agriculture_related_features].isna().any(axis=1)]['country']\n",
    "\n",
    "# Print countries with NaN for Agriculture-related features\n",
    "print(\"Countries with NaN for Agriculture-related features:\")\n",
    "print(countries_with_nan_agriculture)\n",
    "\n",
    "# Explore other features to identify the main aspect of these countries\n",
    "main_aspect = dataset.loc[countries_with_nan_agriculture.index].mean().idxmax()\n",
    "print(\"\\nMain aspect of these countries based on mean feature values:\", main_aspect)\n"
   ]
  },
  {
   "cell_type": "markdown",
   "metadata": {},
   "source": [
    "TASK: Notice climate is missing for a few countries, but not the Region! Let's use this to our advantage. Fill in the missing Climate values based on the mean climate value for its region"
   ]
  },
  {
   "cell_type": "markdown",
   "metadata": {},
   "source": [
    "TASK: Use the same method for the missing values in Literacy."
   ]
  },
  {
   "cell_type": "code",
   "execution_count": 34,
   "metadata": {},
   "outputs": [],
   "source": [
    "from sklearn.impute import SimpleImputer\n",
    "import numpy as np\n",
    "import pandas as pd\n",
    "\n",
    "imputer = SimpleImputer(strategy='mean')\n",
    "dataset = pd.DataFrame(imputer.fit_transform(dataset.select_dtypes(include=[np.number])), columns=dataset.select_dtypes(include=[np.number]).columns)\n",
    "\n",
    "# Add new features\n",
    "dataset['population_density'] = dataset['population'] / dataset['area']\n",
    "dataset['natural_increase_rate'] = dataset['birth_rate'] - dataset['death_rate']\n",
    "dataset['population_log'] = np.log(dataset['population'] + 1)\n",
    "\n",
    "# Drop rows with missing values\n",
    "dataset.dropna(inplace=True)\n"
   ]
  },
  {
   "cell_type": "code",
   "execution_count": 38,
   "metadata": {},
   "outputs": [
    {
     "data": {
      "text/plain": [
       "area                               0\n",
       "birth_rate                         0\n",
       "death_rate                         0\n",
       "infant_mortality_rate              0\n",
       "internet_users                     0\n",
       "life_exp_at_birth                  0\n",
       "maternal_mortality_rate            0\n",
       "net_migration_rate                 0\n",
       "population                         0\n",
       "population_growth_rate             0\n",
       "country_missing                    0\n",
       "area_missing                       0\n",
       "birth_rate_missing                 0\n",
       "death_rate_missing                 0\n",
       "infant_mortality_rate_missing      0\n",
       "internet_users_missing             0\n",
       "life_exp_at_birth_missing          0\n",
       "maternal_mortality_rate_missing    0\n",
       "net_migration_rate_missing         0\n",
       "population_missing                 0\n",
       "population_growth_rate_missing     0\n",
       "Cluster                            0\n",
       "population_density                 0\n",
       "natural_increase_rate              0\n",
       "population_log                     0\n",
       "dtype: int64"
      ]
     },
     "execution_count": 38,
     "metadata": {},
     "output_type": "execute_result"
    }
   ],
   "source": [
    "\n",
    "dataset.isna().sum()\n"
   ]
  },
  {
   "cell_type": "code",
   "execution_count": 39,
   "metadata": {},
   "outputs": [
    {
     "data": {
      "text/html": [
       "<div>\n",
       "<style scoped>\n",
       "    .dataframe tbody tr th:only-of-type {\n",
       "        vertical-align: middle;\n",
       "    }\n",
       "\n",
       "    .dataframe tbody tr th {\n",
       "        vertical-align: top;\n",
       "    }\n",
       "\n",
       "    .dataframe thead th {\n",
       "        text-align: right;\n",
       "    }\n",
       "</style>\n",
       "<table border=\"1\" class=\"dataframe\">\n",
       "  <thead>\n",
       "    <tr style=\"text-align: right;\">\n",
       "      <th></th>\n",
       "      <th>area</th>\n",
       "      <th>birth_rate</th>\n",
       "      <th>death_rate</th>\n",
       "      <th>infant_mortality_rate</th>\n",
       "      <th>internet_users</th>\n",
       "      <th>life_exp_at_birth</th>\n",
       "      <th>maternal_mortality_rate</th>\n",
       "      <th>net_migration_rate</th>\n",
       "      <th>population</th>\n",
       "      <th>population_growth_rate</th>\n",
       "      <th>...</th>\n",
       "      <th>internet_users_missing</th>\n",
       "      <th>life_exp_at_birth_missing</th>\n",
       "      <th>maternal_mortality_rate_missing</th>\n",
       "      <th>net_migration_rate_missing</th>\n",
       "      <th>population_missing</th>\n",
       "      <th>population_growth_rate_missing</th>\n",
       "      <th>Cluster</th>\n",
       "      <th>population_density</th>\n",
       "      <th>natural_increase_rate</th>\n",
       "      <th>population_log</th>\n",
       "    </tr>\n",
       "  </thead>\n",
       "  <tbody>\n",
       "    <tr>\n",
       "      <th>0</th>\n",
       "      <td>17098242.0</td>\n",
       "      <td>11.87</td>\n",
       "      <td>13.83</td>\n",
       "      <td>7.08</td>\n",
       "      <td>40853000.0</td>\n",
       "      <td>70.16</td>\n",
       "      <td>34.0</td>\n",
       "      <td>1.69</td>\n",
       "      <td>1.424703e+08</td>\n",
       "      <td>-0.03</td>\n",
       "      <td>...</td>\n",
       "      <td>0.0</td>\n",
       "      <td>0.0</td>\n",
       "      <td>0.0</td>\n",
       "      <td>0.0</td>\n",
       "      <td>0.0</td>\n",
       "      <td>0.0</td>\n",
       "      <td>2.0</td>\n",
       "      <td>8.332451</td>\n",
       "      <td>-1.96</td>\n",
       "      <td>18.774644</td>\n",
       "    </tr>\n",
       "    <tr>\n",
       "      <th>1</th>\n",
       "      <td>9984670.0</td>\n",
       "      <td>10.29</td>\n",
       "      <td>8.31</td>\n",
       "      <td>4.71</td>\n",
       "      <td>26960000.0</td>\n",
       "      <td>81.67</td>\n",
       "      <td>12.0</td>\n",
       "      <td>5.66</td>\n",
       "      <td>3.483484e+07</td>\n",
       "      <td>0.76</td>\n",
       "      <td>...</td>\n",
       "      <td>0.0</td>\n",
       "      <td>0.0</td>\n",
       "      <td>0.0</td>\n",
       "      <td>0.0</td>\n",
       "      <td>0.0</td>\n",
       "      <td>0.0</td>\n",
       "      <td>0.0</td>\n",
       "      <td>3.488832</td>\n",
       "      <td>1.98</td>\n",
       "      <td>17.366129</td>\n",
       "    </tr>\n",
       "    <tr>\n",
       "      <th>2</th>\n",
       "      <td>9826675.0</td>\n",
       "      <td>13.42</td>\n",
       "      <td>8.15</td>\n",
       "      <td>6.17</td>\n",
       "      <td>245000000.0</td>\n",
       "      <td>79.56</td>\n",
       "      <td>21.0</td>\n",
       "      <td>2.45</td>\n",
       "      <td>3.188921e+08</td>\n",
       "      <td>0.77</td>\n",
       "      <td>...</td>\n",
       "      <td>0.0</td>\n",
       "      <td>0.0</td>\n",
       "      <td>0.0</td>\n",
       "      <td>0.0</td>\n",
       "      <td>0.0</td>\n",
       "      <td>0.0</td>\n",
       "      <td>3.0</td>\n",
       "      <td>32.451679</td>\n",
       "      <td>5.27</td>\n",
       "      <td>19.580363</td>\n",
       "    </tr>\n",
       "    <tr>\n",
       "      <th>3</th>\n",
       "      <td>9596960.0</td>\n",
       "      <td>12.17</td>\n",
       "      <td>7.44</td>\n",
       "      <td>14.79</td>\n",
       "      <td>389000000.0</td>\n",
       "      <td>75.15</td>\n",
       "      <td>37.0</td>\n",
       "      <td>-0.32</td>\n",
       "      <td>1.355693e+09</td>\n",
       "      <td>0.44</td>\n",
       "      <td>...</td>\n",
       "      <td>0.0</td>\n",
       "      <td>0.0</td>\n",
       "      <td>0.0</td>\n",
       "      <td>0.0</td>\n",
       "      <td>0.0</td>\n",
       "      <td>0.0</td>\n",
       "      <td>4.0</td>\n",
       "      <td>141.262710</td>\n",
       "      <td>4.73</td>\n",
       "      <td>21.027578</td>\n",
       "    </tr>\n",
       "    <tr>\n",
       "      <th>4</th>\n",
       "      <td>8514877.0</td>\n",
       "      <td>14.72</td>\n",
       "      <td>6.54</td>\n",
       "      <td>19.21</td>\n",
       "      <td>75982000.0</td>\n",
       "      <td>73.28</td>\n",
       "      <td>56.0</td>\n",
       "      <td>-0.15</td>\n",
       "      <td>2.026568e+08</td>\n",
       "      <td>0.80</td>\n",
       "      <td>...</td>\n",
       "      <td>0.0</td>\n",
       "      <td>0.0</td>\n",
       "      <td>0.0</td>\n",
       "      <td>0.0</td>\n",
       "      <td>0.0</td>\n",
       "      <td>0.0</td>\n",
       "      <td>2.0</td>\n",
       "      <td>23.800319</td>\n",
       "      <td>8.18</td>\n",
       "      <td>19.127024</td>\n",
       "    </tr>\n",
       "  </tbody>\n",
       "</table>\n",
       "<p>5 rows × 25 columns</p>\n",
       "</div>"
      ],
      "text/plain": [
       "         area  birth_rate  death_rate  infant_mortality_rate  internet_users  \\\n",
       "0  17098242.0       11.87       13.83                   7.08      40853000.0   \n",
       "1   9984670.0       10.29        8.31                   4.71      26960000.0   \n",
       "2   9826675.0       13.42        8.15                   6.17     245000000.0   \n",
       "3   9596960.0       12.17        7.44                  14.79     389000000.0   \n",
       "4   8514877.0       14.72        6.54                  19.21      75982000.0   \n",
       "\n",
       "   life_exp_at_birth  maternal_mortality_rate  net_migration_rate  \\\n",
       "0              70.16                     34.0                1.69   \n",
       "1              81.67                     12.0                5.66   \n",
       "2              79.56                     21.0                2.45   \n",
       "3              75.15                     37.0               -0.32   \n",
       "4              73.28                     56.0               -0.15   \n",
       "\n",
       "     population  population_growth_rate  ...  internet_users_missing  \\\n",
       "0  1.424703e+08                   -0.03  ...                     0.0   \n",
       "1  3.483484e+07                    0.76  ...                     0.0   \n",
       "2  3.188921e+08                    0.77  ...                     0.0   \n",
       "3  1.355693e+09                    0.44  ...                     0.0   \n",
       "4  2.026568e+08                    0.80  ...                     0.0   \n",
       "\n",
       "   life_exp_at_birth_missing  maternal_mortality_rate_missing  \\\n",
       "0                        0.0                              0.0   \n",
       "1                        0.0                              0.0   \n",
       "2                        0.0                              0.0   \n",
       "3                        0.0                              0.0   \n",
       "4                        0.0                              0.0   \n",
       "\n",
       "   net_migration_rate_missing  population_missing  \\\n",
       "0                         0.0                 0.0   \n",
       "1                         0.0                 0.0   \n",
       "2                         0.0                 0.0   \n",
       "3                         0.0                 0.0   \n",
       "4                         0.0                 0.0   \n",
       "\n",
       "   population_growth_rate_missing  Cluster  population_density  \\\n",
       "0                             0.0      2.0            8.332451   \n",
       "1                             0.0      0.0            3.488832   \n",
       "2                             0.0      3.0           32.451679   \n",
       "3                             0.0      4.0          141.262710   \n",
       "4                             0.0      2.0           23.800319   \n",
       "\n",
       "   natural_increase_rate  population_log  \n",
       "0                  -1.96       18.774644  \n",
       "1                   1.98       17.366129  \n",
       "2                   5.27       19.580363  \n",
       "3                   4.73       21.027578  \n",
       "4                   8.18       19.127024  \n",
       "\n",
       "[5 rows x 25 columns]"
      ]
     },
     "execution_count": 39,
     "metadata": {},
     "output_type": "execute_result"
    }
   ],
   "source": [
    "\n",
    "dataset.head()"
   ]
  },
  {
   "cell_type": "markdown",
   "metadata": {},
   "source": [
    "TASK: Create a dummy variable to all categorical data."
   ]
  },
  {
   "cell_type": "code",
   "execution_count": 40,
   "metadata": {},
   "outputs": [
    {
     "data": {
      "text/html": [
       "<div>\n",
       "<style scoped>\n",
       "    .dataframe tbody tr th:only-of-type {\n",
       "        vertical-align: middle;\n",
       "    }\n",
       "\n",
       "    .dataframe tbody tr th {\n",
       "        vertical-align: top;\n",
       "    }\n",
       "\n",
       "    .dataframe thead th {\n",
       "        text-align: right;\n",
       "    }\n",
       "</style>\n",
       "<table border=\"1\" class=\"dataframe\">\n",
       "  <thead>\n",
       "    <tr style=\"text-align: right;\">\n",
       "      <th></th>\n",
       "      <th>area</th>\n",
       "      <th>birth_rate</th>\n",
       "      <th>death_rate</th>\n",
       "      <th>infant_mortality_rate</th>\n",
       "      <th>internet_users</th>\n",
       "      <th>life_exp_at_birth</th>\n",
       "      <th>maternal_mortality_rate</th>\n",
       "      <th>net_migration_rate</th>\n",
       "      <th>population</th>\n",
       "      <th>population_growth_rate</th>\n",
       "      <th>...</th>\n",
       "      <th>internet_users_missing</th>\n",
       "      <th>life_exp_at_birth_missing</th>\n",
       "      <th>maternal_mortality_rate_missing</th>\n",
       "      <th>net_migration_rate_missing</th>\n",
       "      <th>population_missing</th>\n",
       "      <th>population_growth_rate_missing</th>\n",
       "      <th>Cluster</th>\n",
       "      <th>population_density</th>\n",
       "      <th>natural_increase_rate</th>\n",
       "      <th>population_log</th>\n",
       "    </tr>\n",
       "  </thead>\n",
       "  <tbody>\n",
       "    <tr>\n",
       "      <th>0</th>\n",
       "      <td>17098242.0</td>\n",
       "      <td>11.87</td>\n",
       "      <td>13.83</td>\n",
       "      <td>7.08</td>\n",
       "      <td>40853000.0</td>\n",
       "      <td>70.16</td>\n",
       "      <td>34.0</td>\n",
       "      <td>1.69</td>\n",
       "      <td>1.424703e+08</td>\n",
       "      <td>-0.03</td>\n",
       "      <td>...</td>\n",
       "      <td>0.0</td>\n",
       "      <td>0.0</td>\n",
       "      <td>0.0</td>\n",
       "      <td>0.0</td>\n",
       "      <td>0.0</td>\n",
       "      <td>0.0</td>\n",
       "      <td>2.0</td>\n",
       "      <td>8.332451</td>\n",
       "      <td>-1.96</td>\n",
       "      <td>18.774644</td>\n",
       "    </tr>\n",
       "    <tr>\n",
       "      <th>1</th>\n",
       "      <td>9984670.0</td>\n",
       "      <td>10.29</td>\n",
       "      <td>8.31</td>\n",
       "      <td>4.71</td>\n",
       "      <td>26960000.0</td>\n",
       "      <td>81.67</td>\n",
       "      <td>12.0</td>\n",
       "      <td>5.66</td>\n",
       "      <td>3.483484e+07</td>\n",
       "      <td>0.76</td>\n",
       "      <td>...</td>\n",
       "      <td>0.0</td>\n",
       "      <td>0.0</td>\n",
       "      <td>0.0</td>\n",
       "      <td>0.0</td>\n",
       "      <td>0.0</td>\n",
       "      <td>0.0</td>\n",
       "      <td>0.0</td>\n",
       "      <td>3.488832</td>\n",
       "      <td>1.98</td>\n",
       "      <td>17.366129</td>\n",
       "    </tr>\n",
       "    <tr>\n",
       "      <th>2</th>\n",
       "      <td>9826675.0</td>\n",
       "      <td>13.42</td>\n",
       "      <td>8.15</td>\n",
       "      <td>6.17</td>\n",
       "      <td>245000000.0</td>\n",
       "      <td>79.56</td>\n",
       "      <td>21.0</td>\n",
       "      <td>2.45</td>\n",
       "      <td>3.188921e+08</td>\n",
       "      <td>0.77</td>\n",
       "      <td>...</td>\n",
       "      <td>0.0</td>\n",
       "      <td>0.0</td>\n",
       "      <td>0.0</td>\n",
       "      <td>0.0</td>\n",
       "      <td>0.0</td>\n",
       "      <td>0.0</td>\n",
       "      <td>3.0</td>\n",
       "      <td>32.451679</td>\n",
       "      <td>5.27</td>\n",
       "      <td>19.580363</td>\n",
       "    </tr>\n",
       "    <tr>\n",
       "      <th>3</th>\n",
       "      <td>9596960.0</td>\n",
       "      <td>12.17</td>\n",
       "      <td>7.44</td>\n",
       "      <td>14.79</td>\n",
       "      <td>389000000.0</td>\n",
       "      <td>75.15</td>\n",
       "      <td>37.0</td>\n",
       "      <td>-0.32</td>\n",
       "      <td>1.355693e+09</td>\n",
       "      <td>0.44</td>\n",
       "      <td>...</td>\n",
       "      <td>0.0</td>\n",
       "      <td>0.0</td>\n",
       "      <td>0.0</td>\n",
       "      <td>0.0</td>\n",
       "      <td>0.0</td>\n",
       "      <td>0.0</td>\n",
       "      <td>4.0</td>\n",
       "      <td>141.262710</td>\n",
       "      <td>4.73</td>\n",
       "      <td>21.027578</td>\n",
       "    </tr>\n",
       "    <tr>\n",
       "      <th>4</th>\n",
       "      <td>8514877.0</td>\n",
       "      <td>14.72</td>\n",
       "      <td>6.54</td>\n",
       "      <td>19.21</td>\n",
       "      <td>75982000.0</td>\n",
       "      <td>73.28</td>\n",
       "      <td>56.0</td>\n",
       "      <td>-0.15</td>\n",
       "      <td>2.026568e+08</td>\n",
       "      <td>0.80</td>\n",
       "      <td>...</td>\n",
       "      <td>0.0</td>\n",
       "      <td>0.0</td>\n",
       "      <td>0.0</td>\n",
       "      <td>0.0</td>\n",
       "      <td>0.0</td>\n",
       "      <td>0.0</td>\n",
       "      <td>2.0</td>\n",
       "      <td>23.800319</td>\n",
       "      <td>8.18</td>\n",
       "      <td>19.127024</td>\n",
       "    </tr>\n",
       "  </tbody>\n",
       "</table>\n",
       "<p>5 rows × 25 columns</p>\n",
       "</div>"
      ],
      "text/plain": [
       "         area  birth_rate  death_rate  infant_mortality_rate  internet_users  \\\n",
       "0  17098242.0       11.87       13.83                   7.08      40853000.0   \n",
       "1   9984670.0       10.29        8.31                   4.71      26960000.0   \n",
       "2   9826675.0       13.42        8.15                   6.17     245000000.0   \n",
       "3   9596960.0       12.17        7.44                  14.79     389000000.0   \n",
       "4   8514877.0       14.72        6.54                  19.21      75982000.0   \n",
       "\n",
       "   life_exp_at_birth  maternal_mortality_rate  net_migration_rate  \\\n",
       "0              70.16                     34.0                1.69   \n",
       "1              81.67                     12.0                5.66   \n",
       "2              79.56                     21.0                2.45   \n",
       "3              75.15                     37.0               -0.32   \n",
       "4              73.28                     56.0               -0.15   \n",
       "\n",
       "     population  population_growth_rate  ...  internet_users_missing  \\\n",
       "0  1.424703e+08                   -0.03  ...                     0.0   \n",
       "1  3.483484e+07                    0.76  ...                     0.0   \n",
       "2  3.188921e+08                    0.77  ...                     0.0   \n",
       "3  1.355693e+09                    0.44  ...                     0.0   \n",
       "4  2.026568e+08                    0.80  ...                     0.0   \n",
       "\n",
       "   life_exp_at_birth_missing  maternal_mortality_rate_missing  \\\n",
       "0                        0.0                              0.0   \n",
       "1                        0.0                              0.0   \n",
       "2                        0.0                              0.0   \n",
       "3                        0.0                              0.0   \n",
       "4                        0.0                              0.0   \n",
       "\n",
       "   net_migration_rate_missing  population_missing  \\\n",
       "0                         0.0                 0.0   \n",
       "1                         0.0                 0.0   \n",
       "2                         0.0                 0.0   \n",
       "3                         0.0                 0.0   \n",
       "4                         0.0                 0.0   \n",
       "\n",
       "   population_growth_rate_missing  Cluster  population_density  \\\n",
       "0                             0.0      2.0            8.332451   \n",
       "1                             0.0      0.0            3.488832   \n",
       "2                             0.0      3.0           32.451679   \n",
       "3                             0.0      4.0          141.262710   \n",
       "4                             0.0      2.0           23.800319   \n",
       "\n",
       "   natural_increase_rate  population_log  \n",
       "0                  -1.96       18.774644  \n",
       "1                   1.98       17.366129  \n",
       "2                   5.27       19.580363  \n",
       "3                   4.73       21.027578  \n",
       "4                   8.18       19.127024  \n",
       "\n",
       "[5 rows x 25 columns]"
      ]
     },
     "execution_count": 40,
     "metadata": {},
     "output_type": "execute_result"
    }
   ],
   "source": [
    "dataset.head()"
   ]
  },
  {
   "cell_type": "code",
   "execution_count": 41,
   "metadata": {},
   "outputs": [
    {
     "data": {
      "text/html": [
       "<div>\n",
       "<style scoped>\n",
       "    .dataframe tbody tr th:only-of-type {\n",
       "        vertical-align: middle;\n",
       "    }\n",
       "\n",
       "    .dataframe tbody tr th {\n",
       "        vertical-align: top;\n",
       "    }\n",
       "\n",
       "    .dataframe thead th {\n",
       "        text-align: right;\n",
       "    }\n",
       "</style>\n",
       "<table border=\"1\" class=\"dataframe\">\n",
       "  <thead>\n",
       "    <tr style=\"text-align: right;\">\n",
       "      <th></th>\n",
       "      <th>area</th>\n",
       "      <th>birth_rate</th>\n",
       "      <th>death_rate</th>\n",
       "      <th>infant_mortality_rate</th>\n",
       "      <th>internet_users</th>\n",
       "      <th>life_exp_at_birth</th>\n",
       "      <th>maternal_mortality_rate</th>\n",
       "      <th>net_migration_rate</th>\n",
       "      <th>population</th>\n",
       "      <th>population_growth_rate</th>\n",
       "      <th>...</th>\n",
       "      <th>internet_users_missing</th>\n",
       "      <th>life_exp_at_birth_missing</th>\n",
       "      <th>maternal_mortality_rate_missing</th>\n",
       "      <th>net_migration_rate_missing</th>\n",
       "      <th>population_missing</th>\n",
       "      <th>population_growth_rate_missing</th>\n",
       "      <th>Cluster</th>\n",
       "      <th>population_density</th>\n",
       "      <th>natural_increase_rate</th>\n",
       "      <th>population_log</th>\n",
       "    </tr>\n",
       "  </thead>\n",
       "  <tbody>\n",
       "    <tr>\n",
       "      <th>0</th>\n",
       "      <td>1.709824e+07</td>\n",
       "      <td>11.870000</td>\n",
       "      <td>13.830000</td>\n",
       "      <td>7.08000</td>\n",
       "      <td>4.085300e+07</td>\n",
       "      <td>70.160000</td>\n",
       "      <td>34.000000</td>\n",
       "      <td>1.690000</td>\n",
       "      <td>1.424703e+08</td>\n",
       "      <td>-0.030000</td>\n",
       "      <td>...</td>\n",
       "      <td>0.0</td>\n",
       "      <td>0.0</td>\n",
       "      <td>0.0</td>\n",
       "      <td>0.0</td>\n",
       "      <td>0.0</td>\n",
       "      <td>0.0</td>\n",
       "      <td>2.0</td>\n",
       "      <td>8.332451e+00</td>\n",
       "      <td>-1.960000</td>\n",
       "      <td>18.774644</td>\n",
       "    </tr>\n",
       "    <tr>\n",
       "      <th>1</th>\n",
       "      <td>9.984670e+06</td>\n",
       "      <td>10.290000</td>\n",
       "      <td>8.310000</td>\n",
       "      <td>4.71000</td>\n",
       "      <td>2.696000e+07</td>\n",
       "      <td>81.670000</td>\n",
       "      <td>12.000000</td>\n",
       "      <td>5.660000</td>\n",
       "      <td>3.483484e+07</td>\n",
       "      <td>0.760000</td>\n",
       "      <td>...</td>\n",
       "      <td>0.0</td>\n",
       "      <td>0.0</td>\n",
       "      <td>0.0</td>\n",
       "      <td>0.0</td>\n",
       "      <td>0.0</td>\n",
       "      <td>0.0</td>\n",
       "      <td>0.0</td>\n",
       "      <td>3.488832e+00</td>\n",
       "      <td>1.980000</td>\n",
       "      <td>17.366129</td>\n",
       "    </tr>\n",
       "    <tr>\n",
       "      <th>2</th>\n",
       "      <td>9.826675e+06</td>\n",
       "      <td>13.420000</td>\n",
       "      <td>8.150000</td>\n",
       "      <td>6.17000</td>\n",
       "      <td>2.450000e+08</td>\n",
       "      <td>79.560000</td>\n",
       "      <td>21.000000</td>\n",
       "      <td>2.450000</td>\n",
       "      <td>3.188921e+08</td>\n",
       "      <td>0.770000</td>\n",
       "      <td>...</td>\n",
       "      <td>0.0</td>\n",
       "      <td>0.0</td>\n",
       "      <td>0.0</td>\n",
       "      <td>0.0</td>\n",
       "      <td>0.0</td>\n",
       "      <td>0.0</td>\n",
       "      <td>3.0</td>\n",
       "      <td>3.245168e+01</td>\n",
       "      <td>5.270000</td>\n",
       "      <td>19.580363</td>\n",
       "    </tr>\n",
       "    <tr>\n",
       "      <th>3</th>\n",
       "      <td>9.596960e+06</td>\n",
       "      <td>12.170000</td>\n",
       "      <td>7.440000</td>\n",
       "      <td>14.79000</td>\n",
       "      <td>3.890000e+08</td>\n",
       "      <td>75.150000</td>\n",
       "      <td>37.000000</td>\n",
       "      <td>-0.320000</td>\n",
       "      <td>1.355693e+09</td>\n",
       "      <td>0.440000</td>\n",
       "      <td>...</td>\n",
       "      <td>0.0</td>\n",
       "      <td>0.0</td>\n",
       "      <td>0.0</td>\n",
       "      <td>0.0</td>\n",
       "      <td>0.0</td>\n",
       "      <td>0.0</td>\n",
       "      <td>4.0</td>\n",
       "      <td>1.412627e+02</td>\n",
       "      <td>4.730000</td>\n",
       "      <td>21.027578</td>\n",
       "    </tr>\n",
       "    <tr>\n",
       "      <th>4</th>\n",
       "      <td>8.514877e+06</td>\n",
       "      <td>14.720000</td>\n",
       "      <td>6.540000</td>\n",
       "      <td>19.21000</td>\n",
       "      <td>7.598200e+07</td>\n",
       "      <td>73.280000</td>\n",
       "      <td>56.000000</td>\n",
       "      <td>-0.150000</td>\n",
       "      <td>2.026568e+08</td>\n",
       "      <td>0.800000</td>\n",
       "      <td>...</td>\n",
       "      <td>0.0</td>\n",
       "      <td>0.0</td>\n",
       "      <td>0.0</td>\n",
       "      <td>0.0</td>\n",
       "      <td>0.0</td>\n",
       "      <td>0.0</td>\n",
       "      <td>2.0</td>\n",
       "      <td>2.380032e+01</td>\n",
       "      <td>8.180000</td>\n",
       "      <td>19.127024</td>\n",
       "    </tr>\n",
       "    <tr>\n",
       "      <th>...</th>\n",
       "      <td>...</td>\n",
       "      <td>...</td>\n",
       "      <td>...</td>\n",
       "      <td>...</td>\n",
       "      <td>...</td>\n",
       "      <td>...</td>\n",
       "      <td>...</td>\n",
       "      <td>...</td>\n",
       "      <td>...</td>\n",
       "      <td>...</td>\n",
       "      <td>...</td>\n",
       "      <td>...</td>\n",
       "      <td>...</td>\n",
       "      <td>...</td>\n",
       "      <td>...</td>\n",
       "      <td>...</td>\n",
       "      <td>...</td>\n",
       "      <td>...</td>\n",
       "      <td>...</td>\n",
       "      <td>...</td>\n",
       "      <td>...</td>\n",
       "    </tr>\n",
       "    <tr>\n",
       "      <th>254</th>\n",
       "      <td>4.900000e+01</td>\n",
       "      <td>19.659063</td>\n",
       "      <td>7.906978</td>\n",
       "      <td>24.48442</td>\n",
       "      <td>8.311771e+06</td>\n",
       "      <td>71.826875</td>\n",
       "      <td>177.972826</td>\n",
       "      <td>-0.181577</td>\n",
       "      <td>3.229436e+07</td>\n",
       "      <td>1.100858</td>\n",
       "      <td>...</td>\n",
       "      <td>0.0</td>\n",
       "      <td>0.0</td>\n",
       "      <td>0.0</td>\n",
       "      <td>0.0</td>\n",
       "      <td>0.0</td>\n",
       "      <td>0.0</td>\n",
       "      <td>0.0</td>\n",
       "      <td>6.590686e+05</td>\n",
       "      <td>11.752085</td>\n",
       "      <td>17.290403</td>\n",
       "    </tr>\n",
       "    <tr>\n",
       "      <th>255</th>\n",
       "      <td>1.200000e+01</td>\n",
       "      <td>19.659063</td>\n",
       "      <td>7.906978</td>\n",
       "      <td>24.48442</td>\n",
       "      <td>8.311771e+06</td>\n",
       "      <td>71.826875</td>\n",
       "      <td>177.972826</td>\n",
       "      <td>-0.181577</td>\n",
       "      <td>3.229436e+07</td>\n",
       "      <td>1.100858</td>\n",
       "      <td>...</td>\n",
       "      <td>0.0</td>\n",
       "      <td>0.0</td>\n",
       "      <td>0.0</td>\n",
       "      <td>0.0</td>\n",
       "      <td>0.0</td>\n",
       "      <td>0.0</td>\n",
       "      <td>0.0</td>\n",
       "      <td>2.691197e+06</td>\n",
       "      <td>11.752085</td>\n",
       "      <td>17.290403</td>\n",
       "    </tr>\n",
       "    <tr>\n",
       "      <th>256</th>\n",
       "      <td>1.230000e+02</td>\n",
       "      <td>19.659063</td>\n",
       "      <td>7.906978</td>\n",
       "      <td>24.48442</td>\n",
       "      <td>8.311771e+06</td>\n",
       "      <td>71.826875</td>\n",
       "      <td>177.972826</td>\n",
       "      <td>-0.181577</td>\n",
       "      <td>3.229436e+07</td>\n",
       "      <td>1.100858</td>\n",
       "      <td>...</td>\n",
       "      <td>0.0</td>\n",
       "      <td>0.0</td>\n",
       "      <td>0.0</td>\n",
       "      <td>0.0</td>\n",
       "      <td>0.0</td>\n",
       "      <td>0.0</td>\n",
       "      <td>0.0</td>\n",
       "      <td>2.625558e+05</td>\n",
       "      <td>11.752085</td>\n",
       "      <td>17.290403</td>\n",
       "    </tr>\n",
       "    <tr>\n",
       "      <th>257</th>\n",
       "      <td>5.308881e+05</td>\n",
       "      <td>19.659063</td>\n",
       "      <td>7.906978</td>\n",
       "      <td>4.33000</td>\n",
       "      <td>8.311771e+06</td>\n",
       "      <td>80.020000</td>\n",
       "      <td>177.972826</td>\n",
       "      <td>-0.181577</td>\n",
       "      <td>5.114348e+08</td>\n",
       "      <td>1.100858</td>\n",
       "      <td>...</td>\n",
       "      <td>0.0</td>\n",
       "      <td>0.0</td>\n",
       "      <td>0.0</td>\n",
       "      <td>0.0</td>\n",
       "      <td>0.0</td>\n",
       "      <td>0.0</td>\n",
       "      <td>3.0</td>\n",
       "      <td>9.633570e+02</td>\n",
       "      <td>11.752085</td>\n",
       "      <td>20.052731</td>\n",
       "    </tr>\n",
       "    <tr>\n",
       "      <th>258</th>\n",
       "      <td>5.308881e+05</td>\n",
       "      <td>19.659063</td>\n",
       "      <td>7.906978</td>\n",
       "      <td>24.48442</td>\n",
       "      <td>8.311771e+06</td>\n",
       "      <td>71.826875</td>\n",
       "      <td>177.972826</td>\n",
       "      <td>-0.181577</td>\n",
       "      <td>7.267000e+03</td>\n",
       "      <td>1.100858</td>\n",
       "      <td>...</td>\n",
       "      <td>0.0</td>\n",
       "      <td>0.0</td>\n",
       "      <td>0.0</td>\n",
       "      <td>0.0</td>\n",
       "      <td>0.0</td>\n",
       "      <td>0.0</td>\n",
       "      <td>0.0</td>\n",
       "      <td>1.368838e-02</td>\n",
       "      <td>11.752085</td>\n",
       "      <td>8.891236</td>\n",
       "    </tr>\n",
       "  </tbody>\n",
       "</table>\n",
       "<p>259 rows × 25 columns</p>\n",
       "</div>"
      ],
      "text/plain": [
       "             area  birth_rate  death_rate  infant_mortality_rate  \\\n",
       "0    1.709824e+07   11.870000   13.830000                7.08000   \n",
       "1    9.984670e+06   10.290000    8.310000                4.71000   \n",
       "2    9.826675e+06   13.420000    8.150000                6.17000   \n",
       "3    9.596960e+06   12.170000    7.440000               14.79000   \n",
       "4    8.514877e+06   14.720000    6.540000               19.21000   \n",
       "..            ...         ...         ...                    ...   \n",
       "254  4.900000e+01   19.659063    7.906978               24.48442   \n",
       "255  1.200000e+01   19.659063    7.906978               24.48442   \n",
       "256  1.230000e+02   19.659063    7.906978               24.48442   \n",
       "257  5.308881e+05   19.659063    7.906978                4.33000   \n",
       "258  5.308881e+05   19.659063    7.906978               24.48442   \n",
       "\n",
       "     internet_users  life_exp_at_birth  maternal_mortality_rate  \\\n",
       "0      4.085300e+07          70.160000                34.000000   \n",
       "1      2.696000e+07          81.670000                12.000000   \n",
       "2      2.450000e+08          79.560000                21.000000   \n",
       "3      3.890000e+08          75.150000                37.000000   \n",
       "4      7.598200e+07          73.280000                56.000000   \n",
       "..              ...                ...                      ...   \n",
       "254    8.311771e+06          71.826875               177.972826   \n",
       "255    8.311771e+06          71.826875               177.972826   \n",
       "256    8.311771e+06          71.826875               177.972826   \n",
       "257    8.311771e+06          80.020000               177.972826   \n",
       "258    8.311771e+06          71.826875               177.972826   \n",
       "\n",
       "     net_migration_rate    population  population_growth_rate  ...  \\\n",
       "0              1.690000  1.424703e+08               -0.030000  ...   \n",
       "1              5.660000  3.483484e+07                0.760000  ...   \n",
       "2              2.450000  3.188921e+08                0.770000  ...   \n",
       "3             -0.320000  1.355693e+09                0.440000  ...   \n",
       "4             -0.150000  2.026568e+08                0.800000  ...   \n",
       "..                  ...           ...                     ...  ...   \n",
       "254           -0.181577  3.229436e+07                1.100858  ...   \n",
       "255           -0.181577  3.229436e+07                1.100858  ...   \n",
       "256           -0.181577  3.229436e+07                1.100858  ...   \n",
       "257           -0.181577  5.114348e+08                1.100858  ...   \n",
       "258           -0.181577  7.267000e+03                1.100858  ...   \n",
       "\n",
       "     internet_users_missing  life_exp_at_birth_missing  \\\n",
       "0                       0.0                        0.0   \n",
       "1                       0.0                        0.0   \n",
       "2                       0.0                        0.0   \n",
       "3                       0.0                        0.0   \n",
       "4                       0.0                        0.0   \n",
       "..                      ...                        ...   \n",
       "254                     0.0                        0.0   \n",
       "255                     0.0                        0.0   \n",
       "256                     0.0                        0.0   \n",
       "257                     0.0                        0.0   \n",
       "258                     0.0                        0.0   \n",
       "\n",
       "     maternal_mortality_rate_missing  net_migration_rate_missing  \\\n",
       "0                                0.0                         0.0   \n",
       "1                                0.0                         0.0   \n",
       "2                                0.0                         0.0   \n",
       "3                                0.0                         0.0   \n",
       "4                                0.0                         0.0   \n",
       "..                               ...                         ...   \n",
       "254                              0.0                         0.0   \n",
       "255                              0.0                         0.0   \n",
       "256                              0.0                         0.0   \n",
       "257                              0.0                         0.0   \n",
       "258                              0.0                         0.0   \n",
       "\n",
       "     population_missing  population_growth_rate_missing  Cluster  \\\n",
       "0                   0.0                             0.0      2.0   \n",
       "1                   0.0                             0.0      0.0   \n",
       "2                   0.0                             0.0      3.0   \n",
       "3                   0.0                             0.0      4.0   \n",
       "4                   0.0                             0.0      2.0   \n",
       "..                  ...                             ...      ...   \n",
       "254                 0.0                             0.0      0.0   \n",
       "255                 0.0                             0.0      0.0   \n",
       "256                 0.0                             0.0      0.0   \n",
       "257                 0.0                             0.0      3.0   \n",
       "258                 0.0                             0.0      0.0   \n",
       "\n",
       "     population_density  natural_increase_rate  population_log  \n",
       "0          8.332451e+00              -1.960000       18.774644  \n",
       "1          3.488832e+00               1.980000       17.366129  \n",
       "2          3.245168e+01               5.270000       19.580363  \n",
       "3          1.412627e+02               4.730000       21.027578  \n",
       "4          2.380032e+01               8.180000       19.127024  \n",
       "..                  ...                    ...             ...  \n",
       "254        6.590686e+05              11.752085       17.290403  \n",
       "255        2.691197e+06              11.752085       17.290403  \n",
       "256        2.625558e+05              11.752085       17.290403  \n",
       "257        9.633570e+02              11.752085       20.052731  \n",
       "258        1.368838e-02              11.752085        8.891236  \n",
       "\n",
       "[259 rows x 25 columns]"
      ]
     },
     "execution_count": 41,
     "metadata": {},
     "output_type": "execute_result"
    }
   ],
   "source": [
    "\n",
    "X = pd.get_dummies(dataset)\n",
    "X"
   ]
  },
  {
   "cell_type": "markdown",
   "metadata": {},
   "source": [
    "TASK: For numerical data perform standard scaler."
   ]
  },
  {
   "cell_type": "code",
   "execution_count": 42,
   "metadata": {},
   "outputs": [],
   "source": [
    "# Remove infinite values and values greater than 1e6\n",
    "remove_mask = np.isinf(X.values) | (X.values > 1e6)\n",
    "X[remove_mask] = np.nan\n",
    "\n",
    "# Impute missing values using mean strategy\n",
    "imputer = SimpleImputer(strategy='mean')\n",
    "X_imputed = pd.DataFrame(imputer.fit_transform(X), columns=X.columns)\n",
    "\n",
    "# Scale the data using StandardScaler\n",
    "scaler = StandardScaler()\n",
    "scaled_X = scaler.fit_transform(X_imputed)\n"
   ]
  },
  {
   "cell_type": "markdown",
   "metadata": {},
   "source": [
    "Plot the within sum of squares vs. the number of cluster and find the optimal number of clusters."
   ]
  },
  {
   "cell_type": "code",
   "execution_count": 43,
   "metadata": {},
   "outputs": [
    {
     "name": "stderr",
     "output_type": "stream",
     "text": [
      "c:\\Users\\FREDDIE\\AppData\\Local\\Programs\\Python\\Python311\\Lib\\site-packages\\sklearn\\cluster\\_kmeans.py:1416: FutureWarning:\n",
      "\n",
      "The default value of `n_init` will change from 10 to 'auto' in 1.4. Set the value of `n_init` explicitly to suppress the warning\n",
      "\n"
     ]
    },
    {
     "data": {
      "text/plain": [
       "array([0, 0, 0, 0, 0, 0, 0, 0, 0, 0, 1, 0, 0, 0, 0, 1, 0, 0, 0, 0, 1, 1,\n",
       "       1, 1, 1, 0, 1, 0, 1, 0, 1, 1, 0, 1, 1, 1, 0, 0, 1, 0, 1, 1, 0, 1,\n",
       "       1, 0, 1, 1, 1, 1, 0, 0, 0, 1, 1, 0, 0, 0, 0, 0, 1, 0, 0, 1, 0, 0,\n",
       "       0, 0, 1, 0, 0, 0, 0, 0, 1, 0, 1, 1, 1, 0, 1, 1, 0, 1, 0, 0, 0, 1,\n",
       "       0, 1, 0, 0, 0, 0, 0, 0, 0, 0, 0, 1, 1, 1, 0, 1, 0, 0, 0, 0, 0, 0,\n",
       "       0, 0, 0, 0, 0, 0, 0, 0, 1, 0, 0, 0, 0, 0, 0, 1, 0, 0, 0, 0, 0, 0,\n",
       "       0, 0, 0, 0, 1, 0, 0, 0, 1, 0, 0, 0, 1, 1, 1, 1, 0, 1, 0, 0, 0, 0,\n",
       "       0, 0, 0, 1, 1, 0, 0, 0, 0, 0, 0, 1, 0, 0, 0, 0, 0, 0, 0, 0, 0, 0,\n",
       "       0, 1, 0, 0, 0, 0, 1, 0, 0, 0, 0, 0, 0, 0, 0, 0, 0, 0, 0, 0, 0, 0,\n",
       "       0, 0, 0, 0, 0, 0, 0, 0, 0, 0, 0, 0, 0, 0, 0, 0, 0, 0, 0, 0, 0, 0,\n",
       "       0, 0, 0, 0, 0, 0, 0, 0, 0, 0, 0, 0, 0, 0, 0, 0, 0, 0, 0, 0, 0, 0,\n",
       "       0, 0, 0, 0, 0, 0, 0, 0, 0, 0, 0, 0, 0, 0, 0, 0, 0])"
      ]
     },
     "execution_count": 43,
     "metadata": {},
     "output_type": "execute_result"
    }
   ],
   "source": [
    "model = KMeans(n_clusters=2)\n",
    "\n",
    "cluster_labels = model.fit_predict(scaled_X)\n",
    "cluster_labels"
   ]
  },
  {
   "cell_type": "code",
   "execution_count": 45,
   "metadata": {},
   "outputs": [
    {
     "name": "stderr",
     "output_type": "stream",
     "text": [
      "c:\\Users\\FREDDIE\\AppData\\Local\\Programs\\Python\\Python311\\Lib\\site-packages\\sklearn\\cluster\\_kmeans.py:1416: FutureWarning:\n",
      "\n",
      "The default value of `n_init` will change from 10 to 'auto' in 1.4. Set the value of `n_init` explicitly to suppress the warning\n",
      "\n",
      "c:\\Users\\FREDDIE\\AppData\\Local\\Programs\\Python\\Python311\\Lib\\site-packages\\sklearn\\cluster\\_kmeans.py:1416: FutureWarning:\n",
      "\n",
      "The default value of `n_init` will change from 10 to 'auto' in 1.4. Set the value of `n_init` explicitly to suppress the warning\n",
      "\n",
      "c:\\Users\\FREDDIE\\AppData\\Local\\Programs\\Python\\Python311\\Lib\\site-packages\\sklearn\\cluster\\_kmeans.py:1416: FutureWarning:\n",
      "\n",
      "The default value of `n_init` will change from 10 to 'auto' in 1.4. Set the value of `n_init` explicitly to suppress the warning\n",
      "\n",
      "c:\\Users\\FREDDIE\\AppData\\Local\\Programs\\Python\\Python311\\Lib\\site-packages\\sklearn\\cluster\\_kmeans.py:1416: FutureWarning:\n",
      "\n",
      "The default value of `n_init` will change from 10 to 'auto' in 1.4. Set the value of `n_init` explicitly to suppress the warning\n",
      "\n",
      "c:\\Users\\FREDDIE\\AppData\\Local\\Programs\\Python\\Python311\\Lib\\site-packages\\sklearn\\cluster\\_kmeans.py:1416: FutureWarning:\n",
      "\n",
      "The default value of `n_init` will change from 10 to 'auto' in 1.4. Set the value of `n_init` explicitly to suppress the warning\n",
      "\n",
      "c:\\Users\\FREDDIE\\AppData\\Local\\Programs\\Python\\Python311\\Lib\\site-packages\\sklearn\\cluster\\_kmeans.py:1416: FutureWarning:\n",
      "\n",
      "The default value of `n_init` will change from 10 to 'auto' in 1.4. Set the value of `n_init` explicitly to suppress the warning\n",
      "\n",
      "c:\\Users\\FREDDIE\\AppData\\Local\\Programs\\Python\\Python311\\Lib\\site-packages\\sklearn\\cluster\\_kmeans.py:1416: FutureWarning:\n",
      "\n",
      "The default value of `n_init` will change from 10 to 'auto' in 1.4. Set the value of `n_init` explicitly to suppress the warning\n",
      "\n",
      "c:\\Users\\FREDDIE\\AppData\\Local\\Programs\\Python\\Python311\\Lib\\site-packages\\sklearn\\cluster\\_kmeans.py:1416: FutureWarning:\n",
      "\n",
      "The default value of `n_init` will change from 10 to 'auto' in 1.4. Set the value of `n_init` explicitly to suppress the warning\n",
      "\n",
      "c:\\Users\\FREDDIE\\AppData\\Local\\Programs\\Python\\Python311\\Lib\\site-packages\\sklearn\\cluster\\_kmeans.py:1416: FutureWarning:\n",
      "\n",
      "The default value of `n_init` will change from 10 to 'auto' in 1.4. Set the value of `n_init` explicitly to suppress the warning\n",
      "\n",
      "c:\\Users\\FREDDIE\\AppData\\Local\\Programs\\Python\\Python311\\Lib\\site-packages\\sklearn\\cluster\\_kmeans.py:1416: FutureWarning:\n",
      "\n",
      "The default value of `n_init` will change from 10 to 'auto' in 1.4. Set the value of `n_init` explicitly to suppress the warning\n",
      "\n"
     ]
    },
    {
     "data": {
      "image/png": "[encoded data removed]",
      "text/plain": [
       "<Figure size 640x480 with 1 Axes>"
      ]
     },
     "metadata": {},
     "output_type": "display_data"
    }
   ],
   "source": [
    "import matplotlib.pyplot as plt\n",
    "from sklearn.cluster import KMeans\n",
    "\n",
    "# Initialize a list to store inertia values\n",
    "inertia_values = []\n",
    "\n",
    "# Define range of cluster numbers to try\n",
    "cluster_range = range(1, 11)  # Try cluster numbers from 1 to 10\n",
    "\n",
    "# Iterate over each cluster number\n",
    "for num_clusters in cluster_range:\n",
    "    # Fit KMeans clustering model\n",
    "    kmeans = KMeans(n_clusters=num_clusters, random_state=0)\n",
    "    kmeans.fit(scaled_X)\n",
    "    \n",
    "    # Append inertia value to the list\n",
    "    inertia_values.append(kmeans.inertia_)\n",
    "\n",
    "# Plot the within-cluster sum of squares vs. number of clusters\n",
    "plt.plot(cluster_range, inertia_values, marker='o')\n",
    "plt.xlabel('Number of Clusters')\n",
    "plt.ylabel('Within Sum of Squares (Inertia)')\n",
    "plt.title('Elbow Method for Optimal Number of Clusters')\n",
    "plt.xticks(cluster_range)\n",
    "plt.grid(True)\n",
    "plt.show()\n"
   ]
  },
  {
   "cell_type": "code",
   "execution_count": 53,
   "metadata": {},
   "outputs": [
    {
     "data": {
      "image/png": "[encoded data removed]",
      "text/plain": [
       "<Figure size 600x600 with 1 Axes>"
      ]
     },
     "metadata": {},
     "output_type": "display_data"
    }
   ],
   "source": [
    "kl = KneeLocator(x=cluster_range, y=inertia_values, curve='convex', direction='decreasing')\n",
    "kl.plot_knee()\n"
   ]
  },
  {
   "cell_type": "code",
   "execution_count": 54,
   "metadata": {},
   "outputs": [
    {
     "data": {
      "text/plain": [
       "3"
      ]
     },
     "execution_count": 54,
     "metadata": {},
     "output_type": "execute_result"
    }
   ],
   "source": [
    "elbow_point = kl.elbow # Use kl.knee for knee point\n",
    "elbow_point"
   ]
  },
  {
   "cell_type": "code",
   "execution_count": 56,
   "metadata": {},
   "outputs": [
    {
     "name": "stderr",
     "output_type": "stream",
     "text": [
      "c:\\Users\\FREDDIE\\AppData\\Local\\Programs\\Python\\Python311\\Lib\\site-packages\\sklearn\\cluster\\_kmeans.py:1416: FutureWarning:\n",
      "\n",
      "The default value of `n_init` will change from 10 to 'auto' in 1.4. Set the value of `n_init` explicitly to suppress the warning\n",
      "\n"
     ]
    },
    {
     "data": {
      "text/plain": [
       "array([0, 0, 0, 0, 0, 0, 0, 0, 0, 0, 2, 1, 0, 0, 0, 2, 0, 0, 0, 0, 2, 2,\n",
       "       2, 2, 2, 0, 2, 0, 2, 0, 2, 2, 0, 2, 2, 2, 0, 0, 2, 0, 2, 2, 0, 2,\n",
       "       2, 0, 2, 0, 2, 2, 0, 0, 0, 2, 2, 0, 0, 0, 0, 0, 2, 0, 0, 2, 0, 0,\n",
       "       0, 0, 2, 0, 0, 0, 0, 0, 2, 0, 2, 2, 2, 0, 2, 2, 0, 2, 0, 0, 0, 2,\n",
       "       1, 2, 0, 0, 0, 0, 0, 0, 0, 0, 0, 2, 2, 2, 0, 2, 0, 0, 0, 0, 0, 0,\n",
       "       0, 0, 0, 0, 0, 0, 0, 0, 2, 0, 0, 0, 0, 0, 1, 2, 0, 0, 0, 0, 0, 0,\n",
       "       0, 0, 0, 0, 2, 0, 0, 0, 2, 0, 0, 0, 2, 2, 2, 2, 0, 2, 0, 0, 0, 0,\n",
       "       0, 0, 0, 2, 2, 0, 0, 0, 1, 1, 0, 2, 0, 0, 0, 0, 0, 0, 0, 0, 0, 1,\n",
       "       0, 2, 0, 1, 1, 0, 2, 1, 1, 0, 1, 1, 1, 0, 1, 1, 1, 1, 1, 1, 1, 1,\n",
       "       1, 0, 1, 0, 1, 0, 1, 0, 1, 1, 1, 1, 1, 1, 1, 1, 1, 1, 1, 1, 1, 1,\n",
       "       1, 1, 1, 1, 1, 1, 1, 1, 0, 1, 1, 1, 1, 1, 1, 1, 0, 0, 0, 0, 0, 0,\n",
       "       0, 0, 0, 0, 0, 0, 0, 0, 0, 0, 0, 0, 0, 0, 0, 0, 1])"
      ]
     },
     "execution_count": 56,
     "metadata": {},
     "output_type": "execute_result"
    }
   ],
   "source": [
    "optimal_model = KMeans(n_clusters=elbow_point)\n",
    "\n",
    "optimal_cluster_labels = optimal_model.fit_predict(scaled_X)\n",
    "optimal_cluster_labels"
   ]
  },
  {
   "cell_type": "markdown",
   "metadata": {},
   "source": [
    "TASK: What K value do you think is a good choice? Are there multiple reasonable choices? What features are helping define these cluster choices."
   ]
  },
  {
   "cell_type": "markdown",
   "metadata": {},
   "source": [
    "It's possible that there are multiple reasonable choices for the K value, especially if the data can be interpreted in different ways or if there is no clear structure in the data. In such cases, it's essential to evaluate the quality and interpretability of the clusters for each choice of K and select the one that best aligns with your objectives and domain knowledge."
   ]
  }
 ],
 "metadata": {
  "kernelspec": {
   "display_name": "Python 3",
   "language": "python",
   "name": "python3"
  },
  "language_info": {
   "codemirror_mode": {
    "name": "ipython",
    "version": 3
   },
   "file_extension": ".py",
   "mimetype": "text/x-python",
   "name": "python",
   "nbconvert_exporter": "python",
   "pygments_lexer": "ipython3",
   "version": "3.11.5"
  }
 },
 "nbformat": 4,
 "nbformat_minor": 2
}
